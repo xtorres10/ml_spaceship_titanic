{
 "cells": [
  {
   "cell_type": "markdown",
   "id": "00bfd346",
   "metadata": {
    "papermill": {
     "duration": 0.01619,
     "end_time": "2024-09-24T11:38:34.839387",
     "exception": false,
     "start_time": "2024-09-24T11:38:34.823197",
     "status": "completed"
    },
    "tags": []
   },
   "source": [
    "# Spaceship Titanic"
   ]
  },
  {
   "cell_type": "markdown",
   "id": "2e580a29",
   "metadata": {
    "papermill": {
     "duration": 0.014695,
     "end_time": "2024-09-24T11:38:34.869567",
     "exception": false,
     "start_time": "2024-09-24T11:38:34.854872",
     "status": "completed"
    },
    "tags": []
   },
   "source": [
    "Predecir que pasajeros fueron transportados a la dimensión alternativa."
   ]
  },
  {
   "cell_type": "markdown",
   "id": "89fd08ec",
   "metadata": {
    "papermill": {
     "duration": 0.015068,
     "end_time": "2024-09-24T11:38:34.900227",
     "exception": false,
     "start_time": "2024-09-24T11:38:34.885159",
     "status": "completed"
    },
    "tags": []
   },
   "source": [
    "## 1. EDA"
   ]
  },
  {
   "cell_type": "code",
   "execution_count": 1,
   "id": "ad59d579",
   "metadata": {
    "execution": {
     "iopub.execute_input": "2024-09-24T11:38:34.935293Z",
     "iopub.status.busy": "2024-09-24T11:38:34.934721Z",
     "iopub.status.idle": "2024-09-24T11:38:37.885352Z",
     "shell.execute_reply": "2024-09-24T11:38:37.884037Z"
    },
    "papermill": {
     "duration": 2.973094,
     "end_time": "2024-09-24T11:38:37.888171",
     "exception": false,
     "start_time": "2024-09-24T11:38:34.915077",
     "status": "completed"
    },
    "tags": []
   },
   "outputs": [],
   "source": [
    "import pandas as pd\n",
    "import numpy as np\n",
    "import matplotlib.pyplot as plt\n",
    "import seaborn as sns"
   ]
  },
  {
   "cell_type": "code",
   "execution_count": 2,
   "id": "7763d4be",
   "metadata": {
    "execution": {
     "iopub.execute_input": "2024-09-24T11:38:37.920366Z",
     "iopub.status.busy": "2024-09-24T11:38:37.919557Z",
     "iopub.status.idle": "2024-09-24T11:38:38.034420Z",
     "shell.execute_reply": "2024-09-24T11:38:38.033082Z"
    },
    "papermill": {
     "duration": 0.133851,
     "end_time": "2024-09-24T11:38:38.037048",
     "exception": false,
     "start_time": "2024-09-24T11:38:37.903197",
     "status": "completed"
    },
    "tags": []
   },
   "outputs": [
    {
     "name": "stdout",
     "output_type": "stream",
     "text": [
      "Tamaño del dataset\n",
      "Columnas: 14\n",
      "Filas: 8693\n",
      "\n",
      "Columnas: ['PassengerId', 'HomePlanet', 'CryoSleep', 'Cabin', 'Destination', 'Age', 'VIP', 'RoomService', 'FoodCourt', 'ShoppingMall', 'Spa', 'VRDeck', 'Name', 'Transported']\n"
     ]
    },
    {
     "data": {
      "text/html": [
       "<div>\n",
       "<style scoped>\n",
       "    .dataframe tbody tr th:only-of-type {\n",
       "        vertical-align: middle;\n",
       "    }\n",
       "\n",
       "    .dataframe tbody tr th {\n",
       "        vertical-align: top;\n",
       "    }\n",
       "\n",
       "    .dataframe thead th {\n",
       "        text-align: right;\n",
       "    }\n",
       "</style>\n",
       "<table border=\"1\" class=\"dataframe\">\n",
       "  <thead>\n",
       "    <tr style=\"text-align: right;\">\n",
       "      <th></th>\n",
       "      <th>PassengerId</th>\n",
       "      <th>HomePlanet</th>\n",
       "      <th>CryoSleep</th>\n",
       "      <th>Cabin</th>\n",
       "      <th>Destination</th>\n",
       "      <th>Age</th>\n",
       "      <th>VIP</th>\n",
       "      <th>RoomService</th>\n",
       "      <th>FoodCourt</th>\n",
       "      <th>ShoppingMall</th>\n",
       "      <th>Spa</th>\n",
       "      <th>VRDeck</th>\n",
       "      <th>Name</th>\n",
       "      <th>Transported</th>\n",
       "    </tr>\n",
       "  </thead>\n",
       "  <tbody>\n",
       "    <tr>\n",
       "      <th>0</th>\n",
       "      <td>0001_01</td>\n",
       "      <td>Europa</td>\n",
       "      <td>False</td>\n",
       "      <td>B/0/P</td>\n",
       "      <td>TRAPPIST-1e</td>\n",
       "      <td>39.0</td>\n",
       "      <td>False</td>\n",
       "      <td>0.0</td>\n",
       "      <td>0.0</td>\n",
       "      <td>0.0</td>\n",
       "      <td>0.0</td>\n",
       "      <td>0.0</td>\n",
       "      <td>Maham Ofracculy</td>\n",
       "      <td>False</td>\n",
       "    </tr>\n",
       "    <tr>\n",
       "      <th>1</th>\n",
       "      <td>0002_01</td>\n",
       "      <td>Earth</td>\n",
       "      <td>False</td>\n",
       "      <td>F/0/S</td>\n",
       "      <td>TRAPPIST-1e</td>\n",
       "      <td>24.0</td>\n",
       "      <td>False</td>\n",
       "      <td>109.0</td>\n",
       "      <td>9.0</td>\n",
       "      <td>25.0</td>\n",
       "      <td>549.0</td>\n",
       "      <td>44.0</td>\n",
       "      <td>Juanna Vines</td>\n",
       "      <td>True</td>\n",
       "    </tr>\n",
       "    <tr>\n",
       "      <th>2</th>\n",
       "      <td>0003_01</td>\n",
       "      <td>Europa</td>\n",
       "      <td>False</td>\n",
       "      <td>A/0/S</td>\n",
       "      <td>TRAPPIST-1e</td>\n",
       "      <td>58.0</td>\n",
       "      <td>True</td>\n",
       "      <td>43.0</td>\n",
       "      <td>3576.0</td>\n",
       "      <td>0.0</td>\n",
       "      <td>6715.0</td>\n",
       "      <td>49.0</td>\n",
       "      <td>Altark Susent</td>\n",
       "      <td>False</td>\n",
       "    </tr>\n",
       "    <tr>\n",
       "      <th>3</th>\n",
       "      <td>0003_02</td>\n",
       "      <td>Europa</td>\n",
       "      <td>False</td>\n",
       "      <td>A/0/S</td>\n",
       "      <td>TRAPPIST-1e</td>\n",
       "      <td>33.0</td>\n",
       "      <td>False</td>\n",
       "      <td>0.0</td>\n",
       "      <td>1283.0</td>\n",
       "      <td>371.0</td>\n",
       "      <td>3329.0</td>\n",
       "      <td>193.0</td>\n",
       "      <td>Solam Susent</td>\n",
       "      <td>False</td>\n",
       "    </tr>\n",
       "    <tr>\n",
       "      <th>4</th>\n",
       "      <td>0004_01</td>\n",
       "      <td>Earth</td>\n",
       "      <td>False</td>\n",
       "      <td>F/1/S</td>\n",
       "      <td>TRAPPIST-1e</td>\n",
       "      <td>16.0</td>\n",
       "      <td>False</td>\n",
       "      <td>303.0</td>\n",
       "      <td>70.0</td>\n",
       "      <td>151.0</td>\n",
       "      <td>565.0</td>\n",
       "      <td>2.0</td>\n",
       "      <td>Willy Santantines</td>\n",
       "      <td>True</td>\n",
       "    </tr>\n",
       "    <tr>\n",
       "      <th>...</th>\n",
       "      <td>...</td>\n",
       "      <td>...</td>\n",
       "      <td>...</td>\n",
       "      <td>...</td>\n",
       "      <td>...</td>\n",
       "      <td>...</td>\n",
       "      <td>...</td>\n",
       "      <td>...</td>\n",
       "      <td>...</td>\n",
       "      <td>...</td>\n",
       "      <td>...</td>\n",
       "      <td>...</td>\n",
       "      <td>...</td>\n",
       "      <td>...</td>\n",
       "    </tr>\n",
       "    <tr>\n",
       "      <th>8688</th>\n",
       "      <td>9276_01</td>\n",
       "      <td>Europa</td>\n",
       "      <td>False</td>\n",
       "      <td>A/98/P</td>\n",
       "      <td>55 Cancri e</td>\n",
       "      <td>41.0</td>\n",
       "      <td>True</td>\n",
       "      <td>0.0</td>\n",
       "      <td>6819.0</td>\n",
       "      <td>0.0</td>\n",
       "      <td>1643.0</td>\n",
       "      <td>74.0</td>\n",
       "      <td>Gravior Noxnuther</td>\n",
       "      <td>False</td>\n",
       "    </tr>\n",
       "    <tr>\n",
       "      <th>8689</th>\n",
       "      <td>9278_01</td>\n",
       "      <td>Earth</td>\n",
       "      <td>True</td>\n",
       "      <td>G/1499/S</td>\n",
       "      <td>PSO J318.5-22</td>\n",
       "      <td>18.0</td>\n",
       "      <td>False</td>\n",
       "      <td>0.0</td>\n",
       "      <td>0.0</td>\n",
       "      <td>0.0</td>\n",
       "      <td>0.0</td>\n",
       "      <td>0.0</td>\n",
       "      <td>Kurta Mondalley</td>\n",
       "      <td>False</td>\n",
       "    </tr>\n",
       "    <tr>\n",
       "      <th>8690</th>\n",
       "      <td>9279_01</td>\n",
       "      <td>Earth</td>\n",
       "      <td>False</td>\n",
       "      <td>G/1500/S</td>\n",
       "      <td>TRAPPIST-1e</td>\n",
       "      <td>26.0</td>\n",
       "      <td>False</td>\n",
       "      <td>0.0</td>\n",
       "      <td>0.0</td>\n",
       "      <td>1872.0</td>\n",
       "      <td>1.0</td>\n",
       "      <td>0.0</td>\n",
       "      <td>Fayey Connon</td>\n",
       "      <td>True</td>\n",
       "    </tr>\n",
       "    <tr>\n",
       "      <th>8691</th>\n",
       "      <td>9280_01</td>\n",
       "      <td>Europa</td>\n",
       "      <td>False</td>\n",
       "      <td>E/608/S</td>\n",
       "      <td>55 Cancri e</td>\n",
       "      <td>32.0</td>\n",
       "      <td>False</td>\n",
       "      <td>0.0</td>\n",
       "      <td>1049.0</td>\n",
       "      <td>0.0</td>\n",
       "      <td>353.0</td>\n",
       "      <td>3235.0</td>\n",
       "      <td>Celeon Hontichre</td>\n",
       "      <td>False</td>\n",
       "    </tr>\n",
       "    <tr>\n",
       "      <th>8692</th>\n",
       "      <td>9280_02</td>\n",
       "      <td>Europa</td>\n",
       "      <td>False</td>\n",
       "      <td>E/608/S</td>\n",
       "      <td>TRAPPIST-1e</td>\n",
       "      <td>44.0</td>\n",
       "      <td>False</td>\n",
       "      <td>126.0</td>\n",
       "      <td>4688.0</td>\n",
       "      <td>0.0</td>\n",
       "      <td>0.0</td>\n",
       "      <td>12.0</td>\n",
       "      <td>Propsh Hontichre</td>\n",
       "      <td>True</td>\n",
       "    </tr>\n",
       "  </tbody>\n",
       "</table>\n",
       "<p>8693 rows × 14 columns</p>\n",
       "</div>"
      ],
      "text/plain": [
       "     PassengerId HomePlanet CryoSleep     Cabin    Destination   Age    VIP  \\\n",
       "0        0001_01     Europa     False     B/0/P    TRAPPIST-1e  39.0  False   \n",
       "1        0002_01      Earth     False     F/0/S    TRAPPIST-1e  24.0  False   \n",
       "2        0003_01     Europa     False     A/0/S    TRAPPIST-1e  58.0   True   \n",
       "3        0003_02     Europa     False     A/0/S    TRAPPIST-1e  33.0  False   \n",
       "4        0004_01      Earth     False     F/1/S    TRAPPIST-1e  16.0  False   \n",
       "...          ...        ...       ...       ...            ...   ...    ...   \n",
       "8688     9276_01     Europa     False    A/98/P    55 Cancri e  41.0   True   \n",
       "8689     9278_01      Earth      True  G/1499/S  PSO J318.5-22  18.0  False   \n",
       "8690     9279_01      Earth     False  G/1500/S    TRAPPIST-1e  26.0  False   \n",
       "8691     9280_01     Europa     False   E/608/S    55 Cancri e  32.0  False   \n",
       "8692     9280_02     Europa     False   E/608/S    TRAPPIST-1e  44.0  False   \n",
       "\n",
       "      RoomService  FoodCourt  ShoppingMall     Spa  VRDeck               Name  \\\n",
       "0             0.0        0.0           0.0     0.0     0.0    Maham Ofracculy   \n",
       "1           109.0        9.0          25.0   549.0    44.0       Juanna Vines   \n",
       "2            43.0     3576.0           0.0  6715.0    49.0      Altark Susent   \n",
       "3             0.0     1283.0         371.0  3329.0   193.0       Solam Susent   \n",
       "4           303.0       70.0         151.0   565.0     2.0  Willy Santantines   \n",
       "...           ...        ...           ...     ...     ...                ...   \n",
       "8688          0.0     6819.0           0.0  1643.0    74.0  Gravior Noxnuther   \n",
       "8689          0.0        0.0           0.0     0.0     0.0    Kurta Mondalley   \n",
       "8690          0.0        0.0        1872.0     1.0     0.0       Fayey Connon   \n",
       "8691          0.0     1049.0           0.0   353.0  3235.0   Celeon Hontichre   \n",
       "8692        126.0     4688.0           0.0     0.0    12.0   Propsh Hontichre   \n",
       "\n",
       "      Transported  \n",
       "0           False  \n",
       "1            True  \n",
       "2           False  \n",
       "3           False  \n",
       "4            True  \n",
       "...           ...  \n",
       "8688        False  \n",
       "8689        False  \n",
       "8690         True  \n",
       "8691        False  \n",
       "8692         True  \n",
       "\n",
       "[8693 rows x 14 columns]"
      ]
     },
     "execution_count": 2,
     "metadata": {},
     "output_type": "execute_result"
    }
   ],
   "source": [
    "# Load data.\n",
    "df = pd.read_csv(\"/kaggle/input/spaceship-titanic/train.csv\")\n",
    "print(f\"Tamaño del dataset\\nColumnas: {df.shape[1]}\\nFilas: {df.shape[0]}\")\n",
    "print(\"\\nColumnas:\", list(df.columns))\n",
    "\n",
    "# Visualizar el dataframe.\n",
    "df"
   ]
  },
  {
   "cell_type": "markdown",
   "id": "eb6db8b2",
   "metadata": {
    "papermill": {
     "duration": 0.015651,
     "end_time": "2024-09-24T11:38:38.069775",
     "exception": false,
     "start_time": "2024-09-24T11:38:38.054124",
     "status": "completed"
    },
    "tags": []
   },
   "source": [
    "#### Información de las columnas\n",
    "\n",
    "* **PassengerId** - Un Id único para cada pasajero. Cada Id toma la forma gggg_pp donde gggg indica un grupo con el que viaja el pasajero y pp es su número dentro del grupo. Las personas en un grupo son a menudo miembros de la familia, pero no siempre.\n",
    "* **HomePlanet** - El planeta del que partió el pasajero, típicamente su planeta de residencia permanente.\n",
    "* **CryoSleep** - Indica si el pasajero eligió ser puesto en animación suspendida durante la duración del viaje. Los pasajeros en cryosleep están confinados a sus cabañas.\n",
    "* **Cabin** - El número de cabina donde se hospeda el pasajero. Toma la forma deck/num/side, donde side puede ser cualquiera P para Puerto o S para Estribor.\n",
    "* **Destination** - El planeta al que el pasajero se desembarcará.\n",
    "* **Age** - La edad del pasajero.\n",
    "* **VIP** - Si el pasajero ha pagado por un servicio VIP especial durante el viaje.\n",
    "* **RoomService, FoodCourt, ShoppingMall, Spa, VRDeck** - Cantidad que el pasajero ha facturado en cada uno de los Nave espacial Titanicson muchas comodidades de lujo.\n",
    "* **Name** - El nombre y apellido del pasajero.\n",
    "* **Transported** - Si el pasajero fue transportado a otra dimensión. Este es el objetivo, la columna que está tratando de predecir.\n",
    "\n",
    "**Transported** es nuestro target, las demas columnas nuestras features."
   ]
  },
  {
   "cell_type": "code",
   "execution_count": 3,
   "id": "b6034375",
   "metadata": {
    "execution": {
     "iopub.execute_input": "2024-09-24T11:38:38.105022Z",
     "iopub.status.busy": "2024-09-24T11:38:38.104558Z",
     "iopub.status.idle": "2024-09-24T11:38:38.138194Z",
     "shell.execute_reply": "2024-09-24T11:38:38.136567Z"
    },
    "papermill": {
     "duration": 0.053936,
     "end_time": "2024-09-24T11:38:38.141225",
     "exception": false,
     "start_time": "2024-09-24T11:38:38.087289",
     "status": "completed"
    },
    "tags": []
   },
   "outputs": [
    {
     "name": "stdout",
     "output_type": "stream",
     "text": [
      "<class 'pandas.core.frame.DataFrame'>\n",
      "RangeIndex: 8693 entries, 0 to 8692\n",
      "Data columns (total 14 columns):\n",
      " #   Column        Non-Null Count  Dtype  \n",
      "---  ------        --------------  -----  \n",
      " 0   PassengerId   8693 non-null   object \n",
      " 1   HomePlanet    8492 non-null   object \n",
      " 2   CryoSleep     8476 non-null   object \n",
      " 3   Cabin         8494 non-null   object \n",
      " 4   Destination   8511 non-null   object \n",
      " 5   Age           8514 non-null   float64\n",
      " 6   VIP           8490 non-null   object \n",
      " 7   RoomService   8512 non-null   float64\n",
      " 8   FoodCourt     8510 non-null   float64\n",
      " 9   ShoppingMall  8485 non-null   float64\n",
      " 10  Spa           8510 non-null   float64\n",
      " 11  VRDeck        8505 non-null   float64\n",
      " 12  Name          8493 non-null   object \n",
      " 13  Transported   8693 non-null   bool   \n",
      "dtypes: bool(1), float64(6), object(7)\n",
      "memory usage: 891.5+ KB\n",
      "None\n"
     ]
    }
   ],
   "source": [
    "# Información de las columnas\n",
    "print(df.info())"
   ]
  },
  {
   "cell_type": "markdown",
   "id": "180b3aad",
   "metadata": {
    "papermill": {
     "duration": 0.015366,
     "end_time": "2024-09-24T11:38:38.172966",
     "exception": false,
     "start_time": "2024-09-24T11:38:38.157600",
     "status": "completed"
    },
    "tags": []
   },
   "source": [
    "- Se observa que hay un total de 8693 pasajeros.\n",
    "- Se tiene como features 6 datos numéricos (float64), 7 categóricos(object).\n",
    "- Faltan valores en todas las features."
   ]
  },
  {
   "cell_type": "markdown",
   "id": "2ffc9005",
   "metadata": {
    "papermill": {
     "duration": 0.015391,
     "end_time": "2024-09-24T11:38:38.204006",
     "exception": false,
     "start_time": "2024-09-24T11:38:38.188615",
     "status": "completed"
    },
    "tags": []
   },
   "source": [
    "### 1.1. Limpieza de datos\n",
    "\n",
    "- Se van a elimnar las columnas que no aportan valor a la predicción.\n",
    "\n",
    "- Se va a comprobar:\n",
    "\t- Los valores nulos\n",
    "\t- Los valores 0\n",
    "\t- Valores duplicados\n",
    "\t- Outliers"
   ]
  },
  {
   "cell_type": "code",
   "execution_count": 4,
   "id": "31cc5c13",
   "metadata": {
    "execution": {
     "iopub.execute_input": "2024-09-24T11:38:38.237233Z",
     "iopub.status.busy": "2024-09-24T11:38:38.236776Z",
     "iopub.status.idle": "2024-09-24T11:38:38.705994Z",
     "shell.execute_reply": "2024-09-24T11:38:38.704670Z"
    },
    "papermill": {
     "duration": 0.488954,
     "end_time": "2024-09-24T11:38:38.708690",
     "exception": false,
     "start_time": "2024-09-24T11:38:38.219736",
     "status": "completed"
    },
    "tags": []
   },
   "outputs": [
    {
     "data": {
      "image/png": "[encoded data removed]",
      "text/plain": [
       "<Figure size 800x500 with 2 Axes>"
      ]
     },
     "metadata": {},
     "output_type": "display_data"
    }
   ],
   "source": [
    "corr_matrix = df[['RoomService', 'FoodCourt', 'ShoppingMall', 'Spa', 'VRDeck', 'Transported']].corr()\n",
    "plt.figure(figsize=(8,5))\n",
    "sns.heatmap(corr_matrix, annot=True, cmap='coolwarm')\n",
    "plt.show()"
   ]
  },
  {
   "cell_type": "code",
   "execution_count": 5,
   "id": "ba81f492",
   "metadata": {
    "execution": {
     "iopub.execute_input": "2024-09-24T11:38:38.743719Z",
     "iopub.status.busy": "2024-09-24T11:38:38.743286Z",
     "iopub.status.idle": "2024-09-24T11:38:38.750432Z",
     "shell.execute_reply": "2024-09-24T11:38:38.749034Z"
    },
    "papermill": {
     "duration": 0.028144,
     "end_time": "2024-09-24T11:38:38.753354",
     "exception": false,
     "start_time": "2024-09-24T11:38:38.725210",
     "status": "completed"
    },
    "tags": []
   },
   "outputs": [],
   "source": [
    "\"\"\" Elinar las columnas que no aportan valor. \"\"\"\n",
    "def remove_cols(df: pd.DataFrame):\n",
    "    try:\n",
    "        df.drop([\"PassengerId\", \"Name\"], axis=1, inplace=True)\n",
    "        print(list(df.columns))        \n",
    "        # df.drop([\"PassengerId\", \"Name\", 'RoomService', 'FoodCourt', 'ShoppingMall', 'Spa', 'VRDeck',], axis=1, inplace=True)\n",
    "    except KeyError:\n",
    "        print(\"No existen las columnas indicadas.\")"
   ]
  },
  {
   "cell_type": "markdown",
   "id": "c702c0b3",
   "metadata": {
    "papermill": {
     "duration": 0.015939,
     "end_time": "2024-09-24T11:38:38.785983",
     "exception": false,
     "start_time": "2024-09-24T11:38:38.770044",
     "status": "completed"
    },
    "tags": []
   },
   "source": [
    "Visualizar valores nulos"
   ]
  },
  {
   "cell_type": "code",
   "execution_count": 6,
   "id": "8cd630e9",
   "metadata": {
    "execution": {
     "iopub.execute_input": "2024-09-24T11:38:38.820857Z",
     "iopub.status.busy": "2024-09-24T11:38:38.820395Z",
     "iopub.status.idle": "2024-09-24T11:38:39.319997Z",
     "shell.execute_reply": "2024-09-24T11:38:39.318596Z"
    },
    "papermill": {
     "duration": 0.521028,
     "end_time": "2024-09-24T11:38:39.323353",
     "exception": false,
     "start_time": "2024-09-24T11:38:38.802325",
     "status": "completed"
    },
    "tags": []
   },
   "outputs": [
    {
     "name": "stdout",
     "output_type": "stream",
     "text": [
      "Valores nulos\n",
      " PassengerId       0\n",
      "HomePlanet      201\n",
      "CryoSleep       217\n",
      "Cabin           199\n",
      "Destination     182\n",
      "Age             179\n",
      "VIP             203\n",
      "RoomService     181\n",
      "FoodCourt       183\n",
      "ShoppingMall    208\n",
      "Spa             183\n",
      "VRDeck          188\n",
      "Name            200\n",
      "Transported       0\n",
      "dtype: int64\n",
      "\n",
      "Porcentaje de valores nulos\n",
      " PassengerId     0.000000\n",
      "HomePlanet      2.312205\n",
      "CryoSleep       2.496261\n",
      "Cabin           2.289198\n",
      "Destination     2.093639\n",
      "Age             2.059128\n",
      "VIP             2.335212\n",
      "RoomService     2.082135\n",
      "FoodCourt       2.105142\n",
      "ShoppingMall    2.392730\n",
      "Spa             2.105142\n",
      "VRDeck          2.162660\n",
      "Name            2.300702\n",
      "Transported     0.000000\n",
      "dtype: float64\n"
     ]
    },
    {
     "data": {
      "text/plain": [
       "Text(0.5, 1.0, 'Valores nulos')"
      ]
     },
     "execution_count": 6,
     "metadata": {},
     "output_type": "execute_result"
    },
    {
     "data": {
      "image/png": "[encoded data removed]",
      "text/plain": [
       "<Figure size 600x400 with 1 Axes>"
      ]
     },
     "metadata": {},
     "output_type": "display_data"
    }
   ],
   "source": [
    "print(\"Valores nulos\\n\", df.isnull().sum())\n",
    "print(\"\\nPorcentaje de valores nulos\\n\", df.isnull().mean() * 100)\n",
    "\n",
    "# Gráfico heatmap para una mejor visulización\n",
    "plt.figure(figsize=(6, 4))\n",
    "sns.heatmap(df.isnull(), yticklabels=False, cbar=False)\n",
    "plt.title(\"Valores nulos\")"
   ]
  },
  {
   "cell_type": "markdown",
   "id": "fa8ccb43",
   "metadata": {
    "papermill": {
     "duration": 0.02176,
     "end_time": "2024-09-24T11:38:39.368288",
     "exception": false,
     "start_time": "2024-09-24T11:38:39.346528",
     "status": "completed"
    },
    "tags": []
   },
   "source": [
    "- Se observa en el gráfico heatmap la existencia de valores nulos en las 11 features.\n",
    "\n",
    "Antes de hacer las imputaciones de los valores faltantes se va a separar la columna Cabin en 3."
   ]
  },
  {
   "cell_type": "code",
   "execution_count": 7,
   "id": "e48c390f",
   "metadata": {
    "execution": {
     "iopub.execute_input": "2024-09-24T11:38:39.409699Z",
     "iopub.status.busy": "2024-09-24T11:38:39.409227Z",
     "iopub.status.idle": "2024-09-24T11:38:39.417234Z",
     "shell.execute_reply": "2024-09-24T11:38:39.415984Z"
    },
    "papermill": {
     "duration": 0.03033,
     "end_time": "2024-09-24T11:38:39.419742",
     "exception": false,
     "start_time": "2024-09-24T11:38:39.389412",
     "status": "completed"
    },
    "tags": []
   },
   "outputs": [],
   "source": [
    "def split_cabin(df: pd.DataFrame):\n",
    "    try:\n",
    "        # Dividir Cabin en tres columnas (Deck, Cab_num y Side)\n",
    "        df[[\"Deck\", \"Cab_num\", \"Side\"]]= df[\"Cabin\"].str.split(\"/\", expand=True)\n",
    "        df.drop(\"Cabin\", axis=1, inplace=True)\n",
    "        print(\"\\nDividir Cabin.\\nColumnas actuales:\", list(df.columns))\n",
    "    except KeyError:\n",
    "        print(\"Columna no existe.\")\n",
    "\n",
    "# Mostrar las 3 últimas filas de las nuevas columnas.\n",
    "# split_cabin(df)\n",
    "#df[cabin_split].tail(3)"
   ]
  },
  {
   "cell_type": "markdown",
   "id": "50aa5e65",
   "metadata": {
    "papermill": {
     "duration": 0.025473,
     "end_time": "2024-09-24T11:38:39.467998",
     "exception": false,
     "start_time": "2024-09-24T11:38:39.442525",
     "status": "completed"
    },
    "tags": []
   },
   "source": [
    "#### Imputar valores nulos"
   ]
  },
  {
   "cell_type": "markdown",
   "id": "efd07b71",
   "metadata": {
    "papermill": {
     "duration": 0.023484,
     "end_time": "2024-09-24T11:38:39.513263",
     "exception": false,
     "start_time": "2024-09-24T11:38:39.489779",
     "status": "completed"
    },
    "tags": []
   },
   "source": [
    "Se utilizo el test de normalidad **D'Agostino-Pearson**, para basar la imputación en la normalidad.\n",
    "* Un p_value < 0.05, se rechaza la hipotesis de una distribución normal.\n",
    "* Un p_value < 0.05, indica que los datos podrían seguir una distribución normal.\n",
    "\n",
    "Entonces si los datos estan distribuidos en forma normal se aplicará la media, en caso contrario será la mediana."
   ]
  },
  {
   "cell_type": "code",
   "execution_count": 8,
   "id": "e11d0929",
   "metadata": {
    "execution": {
     "iopub.execute_input": "2024-09-24T11:38:39.552653Z",
     "iopub.status.busy": "2024-09-24T11:38:39.552116Z",
     "iopub.status.idle": "2024-09-24T11:38:39.561623Z",
     "shell.execute_reply": "2024-09-24T11:38:39.560412Z"
    },
    "papermill": {
     "duration": 0.031652,
     "end_time": "2024-09-24T11:38:39.565103",
     "exception": false,
     "start_time": "2024-09-24T11:38:39.533451",
     "status": "completed"
    },
    "tags": []
   },
   "outputs": [],
   "source": [
    "from scipy import stats\n",
    "\n",
    "# Se realiza la imputación para los valores numéricos.\n",
    "def handle_null_num(df: pd.DataFrame):\n",
    "    cols = df.select_dtypes(include=\"float\").columns\n",
    "    for c in cols:\n",
    "        stat, p_value = stats.normaltest(df[c].dropna())\n",
    "        if p_value > 0.05:\n",
    "            df[c] = df[c].fillna(df[c].mean())\n",
    "            print(f\"{c}, imputado por la media\")\n",
    "        else:\n",
    "            df[c] = df[c].fillna(df[c].median())\n",
    "            print(f\"{c}, imputado por la mediana\")\n",
    "    print(\"\\nComprobando la imputación:\")\n",
    "    print(df[cols].isnull().sum())\n",
    "\n",
    "#handle_null_num(df)\n",
    "#print(df[num_cols].isnull().sum())"
   ]
  },
  {
   "cell_type": "code",
   "execution_count": 9,
   "id": "ed7080d0",
   "metadata": {
    "execution": {
     "iopub.execute_input": "2024-09-24T11:38:39.602820Z",
     "iopub.status.busy": "2024-09-24T11:38:39.602379Z",
     "iopub.status.idle": "2024-09-24T11:38:39.609623Z",
     "shell.execute_reply": "2024-09-24T11:38:39.608414Z"
    },
    "papermill": {
     "duration": 0.02989,
     "end_time": "2024-09-24T11:38:39.612271",
     "exception": false,
     "start_time": "2024-09-24T11:38:39.582381",
     "status": "completed"
    },
    "tags": []
   },
   "outputs": [],
   "source": [
    "# Imputar valores categóricos por la moda.\n",
    "def handle_null_cat(df: pd.DataFrame):\n",
    "    split_cabin(df)\n",
    "    cat_cols = df.select_dtypes(include=\"object\")\n",
    "    for c in cat_cols:\n",
    "        df[c] = df[c].fillna(df[c].mode()[0])\n",
    "    # Comprobar.\n",
    "    print(df.isnull().sum())\n",
    "\n",
    "#handle_null_cat(df)\n",
    "#print(df.isnull().sum())\n"
   ]
  },
  {
   "cell_type": "code",
   "execution_count": 10,
   "id": "d357d5c9",
   "metadata": {
    "execution": {
     "iopub.execute_input": "2024-09-24T11:38:39.659111Z",
     "iopub.status.busy": "2024-09-24T11:38:39.658695Z",
     "iopub.status.idle": "2024-09-24T11:38:39.777997Z",
     "shell.execute_reply": "2024-09-24T11:38:39.776834Z"
    },
    "papermill": {
     "duration": 0.145206,
     "end_time": "2024-09-24T11:38:39.782380",
     "exception": false,
     "start_time": "2024-09-24T11:38:39.637174",
     "status": "completed"
    },
    "tags": []
   },
   "outputs": [
    {
     "name": "stdout",
     "output_type": "stream",
     "text": [
      "['HomePlanet', 'CryoSleep', 'Cabin', 'Destination', 'Age', 'VIP', 'RoomService', 'FoodCourt', 'ShoppingMall', 'Spa', 'VRDeck', 'Transported']\n",
      "Age, imputado por la mediana\n",
      "RoomService, imputado por la mediana\n",
      "FoodCourt, imputado por la mediana\n",
      "ShoppingMall, imputado por la mediana\n",
      "Spa, imputado por la mediana\n",
      "VRDeck, imputado por la mediana\n",
      "\n",
      "Comprobando la imputación:\n",
      "Age             0\n",
      "RoomService     0\n",
      "FoodCourt       0\n",
      "ShoppingMall    0\n",
      "Spa             0\n",
      "VRDeck          0\n",
      "dtype: int64\n",
      "\n",
      "Dividir Cabin.\n",
      "Columnas actuales: ['HomePlanet', 'CryoSleep', 'Destination', 'Age', 'VIP', 'RoomService', 'FoodCourt', 'ShoppingMall', 'Spa', 'VRDeck', 'Transported', 'Deck', 'Cab_num', 'Side']\n",
      "HomePlanet      0\n",
      "CryoSleep       0\n",
      "Destination     0\n",
      "Age             0\n",
      "VIP             0\n",
      "RoomService     0\n",
      "FoodCourt       0\n",
      "ShoppingMall    0\n",
      "Spa             0\n",
      "VRDeck          0\n",
      "Transported     0\n",
      "Deck            0\n",
      "Cab_num         0\n",
      "Side            0\n",
      "dtype: int64\n"
     ]
    },
    {
     "name": "stderr",
     "output_type": "stream",
     "text": [
      "/tmp/ipykernel_17/668325609.py:6: FutureWarning: Downcasting object dtype arrays on .fillna, .ffill, .bfill is deprecated and will change in a future version. Call result.infer_objects(copy=False) instead. To opt-in to the future behavior, set `pd.set_option('future.no_silent_downcasting', True)`\n",
      "  df[c] = df[c].fillna(df[c].mode()[0])\n"
     ]
    },
    {
     "data": {
      "text/html": [
       "<div>\n",
       "<style scoped>\n",
       "    .dataframe tbody tr th:only-of-type {\n",
       "        vertical-align: middle;\n",
       "    }\n",
       "\n",
       "    .dataframe tbody tr th {\n",
       "        vertical-align: top;\n",
       "    }\n",
       "\n",
       "    .dataframe thead th {\n",
       "        text-align: right;\n",
       "    }\n",
       "</style>\n",
       "<table border=\"1\" class=\"dataframe\">\n",
       "  <thead>\n",
       "    <tr style=\"text-align: right;\">\n",
       "      <th></th>\n",
       "      <th>HomePlanet</th>\n",
       "      <th>CryoSleep</th>\n",
       "      <th>Destination</th>\n",
       "      <th>Age</th>\n",
       "      <th>VIP</th>\n",
       "      <th>RoomService</th>\n",
       "      <th>FoodCourt</th>\n",
       "      <th>ShoppingMall</th>\n",
       "      <th>Spa</th>\n",
       "      <th>VRDeck</th>\n",
       "      <th>Transported</th>\n",
       "      <th>Deck</th>\n",
       "      <th>Cab_num</th>\n",
       "      <th>Side</th>\n",
       "    </tr>\n",
       "  </thead>\n",
       "  <tbody>\n",
       "    <tr>\n",
       "      <th>0</th>\n",
       "      <td>Europa</td>\n",
       "      <td>False</td>\n",
       "      <td>TRAPPIST-1e</td>\n",
       "      <td>39.0</td>\n",
       "      <td>False</td>\n",
       "      <td>0.0</td>\n",
       "      <td>0.0</td>\n",
       "      <td>0.0</td>\n",
       "      <td>0.0</td>\n",
       "      <td>0.0</td>\n",
       "      <td>False</td>\n",
       "      <td>B</td>\n",
       "      <td>0</td>\n",
       "      <td>P</td>\n",
       "    </tr>\n",
       "    <tr>\n",
       "      <th>1</th>\n",
       "      <td>Earth</td>\n",
       "      <td>False</td>\n",
       "      <td>TRAPPIST-1e</td>\n",
       "      <td>24.0</td>\n",
       "      <td>False</td>\n",
       "      <td>109.0</td>\n",
       "      <td>9.0</td>\n",
       "      <td>25.0</td>\n",
       "      <td>549.0</td>\n",
       "      <td>44.0</td>\n",
       "      <td>True</td>\n",
       "      <td>F</td>\n",
       "      <td>0</td>\n",
       "      <td>S</td>\n",
       "    </tr>\n",
       "    <tr>\n",
       "      <th>2</th>\n",
       "      <td>Europa</td>\n",
       "      <td>False</td>\n",
       "      <td>TRAPPIST-1e</td>\n",
       "      <td>58.0</td>\n",
       "      <td>True</td>\n",
       "      <td>43.0</td>\n",
       "      <td>3576.0</td>\n",
       "      <td>0.0</td>\n",
       "      <td>6715.0</td>\n",
       "      <td>49.0</td>\n",
       "      <td>False</td>\n",
       "      <td>A</td>\n",
       "      <td>0</td>\n",
       "      <td>S</td>\n",
       "    </tr>\n",
       "    <tr>\n",
       "      <th>3</th>\n",
       "      <td>Europa</td>\n",
       "      <td>False</td>\n",
       "      <td>TRAPPIST-1e</td>\n",
       "      <td>33.0</td>\n",
       "      <td>False</td>\n",
       "      <td>0.0</td>\n",
       "      <td>1283.0</td>\n",
       "      <td>371.0</td>\n",
       "      <td>3329.0</td>\n",
       "      <td>193.0</td>\n",
       "      <td>False</td>\n",
       "      <td>A</td>\n",
       "      <td>0</td>\n",
       "      <td>S</td>\n",
       "    </tr>\n",
       "    <tr>\n",
       "      <th>4</th>\n",
       "      <td>Earth</td>\n",
       "      <td>False</td>\n",
       "      <td>TRAPPIST-1e</td>\n",
       "      <td>16.0</td>\n",
       "      <td>False</td>\n",
       "      <td>303.0</td>\n",
       "      <td>70.0</td>\n",
       "      <td>151.0</td>\n",
       "      <td>565.0</td>\n",
       "      <td>2.0</td>\n",
       "      <td>True</td>\n",
       "      <td>F</td>\n",
       "      <td>1</td>\n",
       "      <td>S</td>\n",
       "    </tr>\n",
       "    <tr>\n",
       "      <th>...</th>\n",
       "      <td>...</td>\n",
       "      <td>...</td>\n",
       "      <td>...</td>\n",
       "      <td>...</td>\n",
       "      <td>...</td>\n",
       "      <td>...</td>\n",
       "      <td>...</td>\n",
       "      <td>...</td>\n",
       "      <td>...</td>\n",
       "      <td>...</td>\n",
       "      <td>...</td>\n",
       "      <td>...</td>\n",
       "      <td>...</td>\n",
       "      <td>...</td>\n",
       "    </tr>\n",
       "    <tr>\n",
       "      <th>8688</th>\n",
       "      <td>Europa</td>\n",
       "      <td>False</td>\n",
       "      <td>55 Cancri e</td>\n",
       "      <td>41.0</td>\n",
       "      <td>True</td>\n",
       "      <td>0.0</td>\n",
       "      <td>6819.0</td>\n",
       "      <td>0.0</td>\n",
       "      <td>1643.0</td>\n",
       "      <td>74.0</td>\n",
       "      <td>False</td>\n",
       "      <td>A</td>\n",
       "      <td>98</td>\n",
       "      <td>P</td>\n",
       "    </tr>\n",
       "    <tr>\n",
       "      <th>8689</th>\n",
       "      <td>Earth</td>\n",
       "      <td>True</td>\n",
       "      <td>PSO J318.5-22</td>\n",
       "      <td>18.0</td>\n",
       "      <td>False</td>\n",
       "      <td>0.0</td>\n",
       "      <td>0.0</td>\n",
       "      <td>0.0</td>\n",
       "      <td>0.0</td>\n",
       "      <td>0.0</td>\n",
       "      <td>False</td>\n",
       "      <td>G</td>\n",
       "      <td>1499</td>\n",
       "      <td>S</td>\n",
       "    </tr>\n",
       "    <tr>\n",
       "      <th>8690</th>\n",
       "      <td>Earth</td>\n",
       "      <td>False</td>\n",
       "      <td>TRAPPIST-1e</td>\n",
       "      <td>26.0</td>\n",
       "      <td>False</td>\n",
       "      <td>0.0</td>\n",
       "      <td>0.0</td>\n",
       "      <td>1872.0</td>\n",
       "      <td>1.0</td>\n",
       "      <td>0.0</td>\n",
       "      <td>True</td>\n",
       "      <td>G</td>\n",
       "      <td>1500</td>\n",
       "      <td>S</td>\n",
       "    </tr>\n",
       "    <tr>\n",
       "      <th>8691</th>\n",
       "      <td>Europa</td>\n",
       "      <td>False</td>\n",
       "      <td>55 Cancri e</td>\n",
       "      <td>32.0</td>\n",
       "      <td>False</td>\n",
       "      <td>0.0</td>\n",
       "      <td>1049.0</td>\n",
       "      <td>0.0</td>\n",
       "      <td>353.0</td>\n",
       "      <td>3235.0</td>\n",
       "      <td>False</td>\n",
       "      <td>E</td>\n",
       "      <td>608</td>\n",
       "      <td>S</td>\n",
       "    </tr>\n",
       "    <tr>\n",
       "      <th>8692</th>\n",
       "      <td>Europa</td>\n",
       "      <td>False</td>\n",
       "      <td>TRAPPIST-1e</td>\n",
       "      <td>44.0</td>\n",
       "      <td>False</td>\n",
       "      <td>126.0</td>\n",
       "      <td>4688.0</td>\n",
       "      <td>0.0</td>\n",
       "      <td>0.0</td>\n",
       "      <td>12.0</td>\n",
       "      <td>True</td>\n",
       "      <td>E</td>\n",
       "      <td>608</td>\n",
       "      <td>S</td>\n",
       "    </tr>\n",
       "  </tbody>\n",
       "</table>\n",
       "<p>8693 rows × 14 columns</p>\n",
       "</div>"
      ],
      "text/plain": [
       "     HomePlanet  CryoSleep    Destination   Age    VIP  RoomService  \\\n",
       "0        Europa      False    TRAPPIST-1e  39.0  False          0.0   \n",
       "1         Earth      False    TRAPPIST-1e  24.0  False        109.0   \n",
       "2        Europa      False    TRAPPIST-1e  58.0   True         43.0   \n",
       "3        Europa      False    TRAPPIST-1e  33.0  False          0.0   \n",
       "4         Earth      False    TRAPPIST-1e  16.0  False        303.0   \n",
       "...         ...        ...            ...   ...    ...          ...   \n",
       "8688     Europa      False    55 Cancri e  41.0   True          0.0   \n",
       "8689      Earth       True  PSO J318.5-22  18.0  False          0.0   \n",
       "8690      Earth      False    TRAPPIST-1e  26.0  False          0.0   \n",
       "8691     Europa      False    55 Cancri e  32.0  False          0.0   \n",
       "8692     Europa      False    TRAPPIST-1e  44.0  False        126.0   \n",
       "\n",
       "      FoodCourt  ShoppingMall     Spa  VRDeck  Transported Deck Cab_num Side  \n",
       "0           0.0           0.0     0.0     0.0        False    B       0    P  \n",
       "1           9.0          25.0   549.0    44.0         True    F       0    S  \n",
       "2        3576.0           0.0  6715.0    49.0        False    A       0    S  \n",
       "3        1283.0         371.0  3329.0   193.0        False    A       0    S  \n",
       "4          70.0         151.0   565.0     2.0         True    F       1    S  \n",
       "...         ...           ...     ...     ...          ...  ...     ...  ...  \n",
       "8688     6819.0           0.0  1643.0    74.0        False    A      98    P  \n",
       "8689        0.0           0.0     0.0     0.0        False    G    1499    S  \n",
       "8690        0.0        1872.0     1.0     0.0         True    G    1500    S  \n",
       "8691     1049.0           0.0   353.0  3235.0        False    E     608    S  \n",
       "8692     4688.0           0.0     0.0    12.0         True    E     608    S  \n",
       "\n",
       "[8693 rows x 14 columns]"
      ]
     },
     "execution_count": 10,
     "metadata": {},
     "output_type": "execute_result"
    }
   ],
   "source": [
    "# Function to clean data\n",
    "def clean_data(df: pd.DataFrame) -> pd.DataFrame:\n",
    "    remove_cols(df)\n",
    "    handle_null_num(df)\n",
    "    handle_null_cat(df)\n",
    "    return df\n",
    "\n",
    "df = clean_data(df)\n",
    "df"
   ]
  },
  {
   "cell_type": "markdown",
   "id": "dac20ffe",
   "metadata": {
    "papermill": {
     "duration": 0.017776,
     "end_time": "2024-09-24T11:38:39.818856",
     "exception": false,
     "start_time": "2024-09-24T11:38:39.801080",
     "status": "completed"
    },
    "tags": []
   },
   "source": [
    "#### Cambiar tipo de datos"
   ]
  },
  {
   "cell_type": "code",
   "execution_count": 11,
   "id": "a0b5374b",
   "metadata": {
    "execution": {
     "iopub.execute_input": "2024-09-24T11:38:39.858429Z",
     "iopub.status.busy": "2024-09-24T11:38:39.857471Z",
     "iopub.status.idle": "2024-09-24T11:38:39.867546Z",
     "shell.execute_reply": "2024-09-24T11:38:39.866255Z"
    },
    "papermill": {
     "duration": 0.032713,
     "end_time": "2024-09-24T11:38:39.870205",
     "exception": false,
     "start_time": "2024-09-24T11:38:39.837492",
     "status": "completed"
    },
    "tags": []
   },
   "outputs": [
    {
     "data": {
      "text/plain": [
       "HomePlanet       object\n",
       "CryoSleep          bool\n",
       "Destination      object\n",
       "Age             float64\n",
       "VIP                bool\n",
       "RoomService     float64\n",
       "FoodCourt       float64\n",
       "ShoppingMall    float64\n",
       "Spa             float64\n",
       "VRDeck          float64\n",
       "Transported        bool\n",
       "Deck             object\n",
       "Cab_num          object\n",
       "Side             object\n",
       "dtype: object"
      ]
     },
     "execution_count": 11,
     "metadata": {},
     "output_type": "execute_result"
    }
   ],
   "source": [
    "df.dtypes"
   ]
  },
  {
   "cell_type": "code",
   "execution_count": 12,
   "id": "2453727b",
   "metadata": {
    "execution": {
     "iopub.execute_input": "2024-09-24T11:38:39.909198Z",
     "iopub.status.busy": "2024-09-24T11:38:39.908757Z",
     "iopub.status.idle": "2024-09-24T11:38:39.935141Z",
     "shell.execute_reply": "2024-09-24T11:38:39.933578Z"
    },
    "papermill": {
     "duration": 0.049913,
     "end_time": "2024-09-24T11:38:39.938347",
     "exception": false,
     "start_time": "2024-09-24T11:38:39.888434",
     "status": "completed"
    },
    "tags": []
   },
   "outputs": [
    {
     "name": "stdout",
     "output_type": "stream",
     "text": [
      "HomePlanet      category\n",
      "CryoSleep          int64\n",
      "Destination     category\n",
      "Age                int64\n",
      "VIP                int64\n",
      "RoomService        int64\n",
      "FoodCourt          int64\n",
      "ShoppingMall       int64\n",
      "Spa                int64\n",
      "VRDeck             int64\n",
      "Transported        int64\n",
      "Deck            category\n",
      "Cab_num            int64\n",
      "Side            category\n",
      "dtype: object\n"
     ]
    }
   ],
   "source": [
    "\"\"\" Corregir los tipos de datos. \"\"\"\n",
    "\n",
    "def fix_types(df: pd.DataFrame):\n",
    "    # Lista de datos por tipo\n",
    "    num_cols = df.select_dtypes(include=\"float\").columns\n",
    "    bin_cols = df.select_dtypes(include=\"bool\").columns\n",
    "    cat_cols = df.select_dtypes(include=\"object\").columns\n",
    "    \n",
    "    cat_cols = cat_cols.drop(\"Cab_num\")\n",
    "\n",
    "    def change_datatype(cols, dtype):\n",
    "        for c in cols:\n",
    "            df[c] = df[c].astype(dtype)\n",
    "\n",
    "    # Cambiar tipo de datos con la función.\n",
    "    change_datatype(num_cols, \"int\")\n",
    "    change_datatype(bin_cols, \"int\")\n",
    "    change_datatype(cat_cols, \"category\")\n",
    "    change_datatype(['Cab_num'], \"int\")\n",
    "    print(df.dtypes)\n",
    "\n",
    "fix_types(df)"
   ]
  },
  {
   "cell_type": "code",
   "execution_count": 13,
   "id": "6e8c990c",
   "metadata": {
    "execution": {
     "iopub.execute_input": "2024-09-24T11:38:39.982658Z",
     "iopub.status.busy": "2024-09-24T11:38:39.981917Z",
     "iopub.status.idle": "2024-09-24T11:38:40.004672Z",
     "shell.execute_reply": "2024-09-24T11:38:40.003328Z"
    },
    "papermill": {
     "duration": 0.049828,
     "end_time": "2024-09-24T11:38:40.007356",
     "exception": false,
     "start_time": "2024-09-24T11:38:39.957528",
     "status": "completed"
    },
    "tags": []
   },
   "outputs": [
    {
     "data": {
      "text/html": [
       "<div>\n",
       "<style scoped>\n",
       "    .dataframe tbody tr th:only-of-type {\n",
       "        vertical-align: middle;\n",
       "    }\n",
       "\n",
       "    .dataframe tbody tr th {\n",
       "        vertical-align: top;\n",
       "    }\n",
       "\n",
       "    .dataframe thead th {\n",
       "        text-align: right;\n",
       "    }\n",
       "</style>\n",
       "<table border=\"1\" class=\"dataframe\">\n",
       "  <thead>\n",
       "    <tr style=\"text-align: right;\">\n",
       "      <th></th>\n",
       "      <th>HomePlanet</th>\n",
       "      <th>CryoSleep</th>\n",
       "      <th>Destination</th>\n",
       "      <th>Age</th>\n",
       "      <th>VIP</th>\n",
       "      <th>RoomService</th>\n",
       "      <th>FoodCourt</th>\n",
       "      <th>ShoppingMall</th>\n",
       "      <th>Spa</th>\n",
       "      <th>VRDeck</th>\n",
       "      <th>Transported</th>\n",
       "      <th>Deck</th>\n",
       "      <th>Cab_num</th>\n",
       "      <th>Side</th>\n",
       "    </tr>\n",
       "  </thead>\n",
       "  <tbody>\n",
       "    <tr>\n",
       "      <th>0</th>\n",
       "      <td>Europa</td>\n",
       "      <td>0</td>\n",
       "      <td>TRAPPIST-1e</td>\n",
       "      <td>39</td>\n",
       "      <td>0</td>\n",
       "      <td>0</td>\n",
       "      <td>0</td>\n",
       "      <td>0</td>\n",
       "      <td>0</td>\n",
       "      <td>0</td>\n",
       "      <td>0</td>\n",
       "      <td>B</td>\n",
       "      <td>0</td>\n",
       "      <td>P</td>\n",
       "    </tr>\n",
       "    <tr>\n",
       "      <th>1</th>\n",
       "      <td>Earth</td>\n",
       "      <td>0</td>\n",
       "      <td>TRAPPIST-1e</td>\n",
       "      <td>24</td>\n",
       "      <td>0</td>\n",
       "      <td>109</td>\n",
       "      <td>9</td>\n",
       "      <td>25</td>\n",
       "      <td>549</td>\n",
       "      <td>44</td>\n",
       "      <td>1</td>\n",
       "      <td>F</td>\n",
       "      <td>0</td>\n",
       "      <td>S</td>\n",
       "    </tr>\n",
       "    <tr>\n",
       "      <th>2</th>\n",
       "      <td>Europa</td>\n",
       "      <td>0</td>\n",
       "      <td>TRAPPIST-1e</td>\n",
       "      <td>58</td>\n",
       "      <td>1</td>\n",
       "      <td>43</td>\n",
       "      <td>3576</td>\n",
       "      <td>0</td>\n",
       "      <td>6715</td>\n",
       "      <td>49</td>\n",
       "      <td>0</td>\n",
       "      <td>A</td>\n",
       "      <td>0</td>\n",
       "      <td>S</td>\n",
       "    </tr>\n",
       "    <tr>\n",
       "      <th>3</th>\n",
       "      <td>Europa</td>\n",
       "      <td>0</td>\n",
       "      <td>TRAPPIST-1e</td>\n",
       "      <td>33</td>\n",
       "      <td>0</td>\n",
       "      <td>0</td>\n",
       "      <td>1283</td>\n",
       "      <td>371</td>\n",
       "      <td>3329</td>\n",
       "      <td>193</td>\n",
       "      <td>0</td>\n",
       "      <td>A</td>\n",
       "      <td>0</td>\n",
       "      <td>S</td>\n",
       "    </tr>\n",
       "    <tr>\n",
       "      <th>4</th>\n",
       "      <td>Earth</td>\n",
       "      <td>0</td>\n",
       "      <td>TRAPPIST-1e</td>\n",
       "      <td>16</td>\n",
       "      <td>0</td>\n",
       "      <td>303</td>\n",
       "      <td>70</td>\n",
       "      <td>151</td>\n",
       "      <td>565</td>\n",
       "      <td>2</td>\n",
       "      <td>1</td>\n",
       "      <td>F</td>\n",
       "      <td>1</td>\n",
       "      <td>S</td>\n",
       "    </tr>\n",
       "  </tbody>\n",
       "</table>\n",
       "</div>"
      ],
      "text/plain": [
       "  HomePlanet  CryoSleep  Destination  Age  VIP  RoomService  FoodCourt  \\\n",
       "0     Europa          0  TRAPPIST-1e   39    0            0          0   \n",
       "1      Earth          0  TRAPPIST-1e   24    0          109          9   \n",
       "2     Europa          0  TRAPPIST-1e   58    1           43       3576   \n",
       "3     Europa          0  TRAPPIST-1e   33    0            0       1283   \n",
       "4      Earth          0  TRAPPIST-1e   16    0          303         70   \n",
       "\n",
       "   ShoppingMall   Spa  VRDeck  Transported Deck  Cab_num Side  \n",
       "0             0     0       0            0    B        0    P  \n",
       "1            25   549      44            1    F        0    S  \n",
       "2             0  6715      49            0    A        0    S  \n",
       "3           371  3329     193            0    A        0    S  \n",
       "4           151   565       2            1    F        1    S  "
      ]
     },
     "execution_count": 13,
     "metadata": {},
     "output_type": "execute_result"
    }
   ],
   "source": [
    "df.head()"
   ]
  },
  {
   "cell_type": "markdown",
   "id": "9159c271",
   "metadata": {
    "papermill": {
     "duration": 0.022134,
     "end_time": "2024-09-24T11:38:40.049256",
     "exception": false,
     "start_time": "2024-09-24T11:38:40.027122",
     "status": "completed"
    },
    "tags": []
   },
   "source": [
    "### Análisis Descriptivo"
   ]
  },
  {
   "cell_type": "code",
   "execution_count": 14,
   "id": "ee287eec",
   "metadata": {
    "execution": {
     "iopub.execute_input": "2024-09-24T11:38:40.090114Z",
     "iopub.status.busy": "2024-09-24T11:38:40.089654Z",
     "iopub.status.idle": "2024-09-24T11:38:40.249132Z",
     "shell.execute_reply": "2024-09-24T11:38:40.247499Z"
    },
    "papermill": {
     "duration": 0.184414,
     "end_time": "2024-09-24T11:38:40.253437",
     "exception": false,
     "start_time": "2024-09-24T11:38:40.069023",
     "status": "completed"
    },
    "tags": []
   },
   "outputs": [
    {
     "data": {
      "text/plain": [
       "Text(0.5, 1.0, 'Transported')"
      ]
     },
     "execution_count": 14,
     "metadata": {},
     "output_type": "execute_result"
    },
    {
     "data": {
      "image/png": "[encoded data removed]",
      "text/plain": [
       "<Figure size 640x480 with 1 Axes>"
      ]
     },
     "metadata": {},
     "output_type": "display_data"
    }
   ],
   "source": [
    "# Gráfico acerca de Transported\n",
    "ax = plt.subplot()\n",
    "values = df['Transported'].value_counts()\n",
    "ax.pie(x=values, labels=values.index, autopct='%1.1f%%')\n",
    "ax.set_title(\"Transported\")"
   ]
  },
  {
   "cell_type": "code",
   "execution_count": 15,
   "id": "59dc12a2",
   "metadata": {
    "execution": {
     "iopub.execute_input": "2024-09-24T11:38:40.328092Z",
     "iopub.status.busy": "2024-09-24T11:38:40.326928Z",
     "iopub.status.idle": "2024-09-24T11:38:40.903964Z",
     "shell.execute_reply": "2024-09-24T11:38:40.902622Z"
    },
    "papermill": {
     "duration": 0.613832,
     "end_time": "2024-09-24T11:38:40.906923",
     "exception": false,
     "start_time": "2024-09-24T11:38:40.293091",
     "status": "completed"
    },
    "tags": []
   },
   "outputs": [
    {
     "name": "stdout",
     "output_type": "stream",
     "text": [
      "Descripción de datos numéricos\n",
      "         CryoSleep          Age          VIP   RoomService     FoodCourt  \\\n",
      "count  8693.000000  8693.000000  8693.000000   8693.000000   8693.000000   \n",
      "mean      0.349362    28.790291     0.022892    220.009318    448.434027   \n",
      "std       0.476796    14.341404     0.149568    660.519050   1595.790627   \n",
      "min       0.000000     0.000000     0.000000      0.000000      0.000000   \n",
      "25%       0.000000    20.000000     0.000000      0.000000      0.000000   \n",
      "50%       0.000000    27.000000     0.000000      0.000000      0.000000   \n",
      "75%       1.000000    37.000000     0.000000     41.000000     61.000000   \n",
      "max       1.000000    79.000000     1.000000  14327.000000  29813.000000   \n",
      "\n",
      "       ShoppingMall           Spa        VRDeck  Transported      Cab_num  \n",
      "count   8693.000000   8693.000000   8693.000000  8693.000000  8693.000000  \n",
      "mean     169.572300    304.588865    298.261820     0.503624   588.501208  \n",
      "std      598.007164   1125.562559   1134.126417     0.500016   511.879432  \n",
      "min        0.000000      0.000000      0.000000     0.000000     0.000000  \n",
      "25%        0.000000      0.000000      0.000000     0.000000   152.000000  \n",
      "50%        0.000000      0.000000      0.000000     1.000000   407.000000  \n",
      "75%       22.000000     53.000000     40.000000     1.000000   983.000000  \n",
      "max    23492.000000  22408.000000  24133.000000     1.000000  1894.000000  \n",
      "[<Axes: > <Axes: >]\n"
     ]
    },
    {
     "name": "stderr",
     "output_type": "stream",
     "text": [
      "/opt/conda/lib/python3.10/site-packages/seaborn/_oldcore.py:1119: FutureWarning: use_inf_as_na option is deprecated and will be removed in a future version. Convert inf values to NaN before operating instead.\n",
      "  with pd.option_context('mode.use_inf_as_na', True):\n"
     ]
    },
    {
     "data": {
      "text/plain": [
       "<Axes: ylabel='Age'>"
      ]
     },
     "execution_count": 15,
     "metadata": {},
     "output_type": "execute_result"
    },
    {
     "data": {
      "image/png": "[encoded data removed]",
      "text/plain": [
       "<Figure size 1000x400 with 2 Axes>"
      ]
     },
     "metadata": {},
     "output_type": "display_data"
    }
   ],
   "source": [
    "print(\"Descripción de datos numéricos\")\n",
    "print(df.describe())\n",
    "fig, ax = plt.subplots(nrows=1, ncols=2, figsize=(10, 4))\n",
    "print(ax)\n",
    "sns.set_theme(style=\"ticks\", palette=\"pastel\")\n",
    "sns.histplot(x='Age', data=df, ax=ax[0])\n",
    "sns.boxplot(y='Age', orient='', data=df, ax=ax[1])"
   ]
  },
  {
   "cell_type": "markdown",
   "id": "2bf86542",
   "metadata": {
    "papermill": {
     "duration": 0.019794,
     "end_time": "2024-09-24T11:38:40.946852",
     "exception": false,
     "start_time": "2024-09-24T11:38:40.927058",
     "status": "completed"
    },
    "tags": []
   },
   "source": [
    "- Se observa que el 50% de las personas comprenden una edad de 20 a 37 años.\n",
    "- El 75% de los pasajeros tienen una edad inferior a 37 años.\n",
    "- Los outliers existentes reprentan al pequeño grupo de personas del rango de 60 a 79 años."
   ]
  },
  {
   "cell_type": "code",
   "execution_count": 16,
   "id": "7bae2977",
   "metadata": {
    "execution": {
     "iopub.execute_input": "2024-09-24T11:38:40.989066Z",
     "iopub.status.busy": "2024-09-24T11:38:40.988588Z",
     "iopub.status.idle": "2024-09-24T11:38:41.876718Z",
     "shell.execute_reply": "2024-09-24T11:38:41.875528Z"
    },
    "papermill": {
     "duration": 0.912633,
     "end_time": "2024-09-24T11:38:41.879454",
     "exception": false,
     "start_time": "2024-09-24T11:38:40.966821",
     "status": "completed"
    },
    "tags": []
   },
   "outputs": [
    {
     "name": "stderr",
     "output_type": "stream",
     "text": [
      "/opt/conda/lib/python3.10/site-packages/seaborn/categorical.py:641: FutureWarning: The default of observed=False is deprecated and will be changed to True in a future version of pandas. Pass observed=False to retain current behavior or observed=True to adopt the future default and silence this warning.\n",
      "  grouped_vals = vals.groupby(grouper)\n",
      "/opt/conda/lib/python3.10/site-packages/seaborn/categorical.py:641: FutureWarning: The default of observed=False is deprecated and will be changed to True in a future version of pandas. Pass observed=False to retain current behavior or observed=True to adopt the future default and silence this warning.\n",
      "  grouped_vals = vals.groupby(grouper)\n",
      "/opt/conda/lib/python3.10/site-packages/seaborn/categorical.py:641: FutureWarning: The default of observed=False is deprecated and will be changed to True in a future version of pandas. Pass observed=False to retain current behavior or observed=True to adopt the future default and silence this warning.\n",
      "  grouped_vals = vals.groupby(grouper)\n"
     ]
    },
    {
     "data": {
      "image/png": "[encoded data removed]",
      "text/plain": [
       "<Figure size 1200x800 with 4 Axes>"
      ]
     },
     "metadata": {},
     "output_type": "display_data"
    }
   ],
   "source": [
    "ord_cols = ['HomePlanet', 'Destination', 'CryoSleep', 'VIP']\n",
    "fig, ax = plt.subplots(2, 2, figsize=(12, 8))\n",
    "fig.subplots_adjust(hspace=0.3)\n",
    "ax = ax.flatten()\n",
    "for i, col in enumerate(ord_cols):\n",
    "    sns.countplot(data=df, x=col, hue='Transported', ax=ax[i])"
   ]
  },
  {
   "cell_type": "markdown",
   "id": "17d9d5f0",
   "metadata": {
    "papermill": {
     "duration": 0.02189,
     "end_time": "2024-09-24T11:38:41.922437",
     "exception": false,
     "start_time": "2024-09-24T11:38:41.900547",
     "status": "completed"
    },
    "tags": []
   },
   "source": [
    "### Transformar datos"
   ]
  },
  {
   "cell_type": "markdown",
   "id": "558a68b4",
   "metadata": {
    "papermill": {
     "duration": 0.021654,
     "end_time": "2024-09-24T11:38:41.965645",
     "exception": false,
     "start_time": "2024-09-24T11:38:41.943991",
     "status": "completed"
    },
    "tags": []
   },
   "source": [
    "Codificar datos categóricos con One Hot Encoder."
   ]
  },
  {
   "cell_type": "code",
   "execution_count": 17,
   "id": "326130ea",
   "metadata": {
    "execution": {
     "iopub.execute_input": "2024-09-24T11:38:42.011760Z",
     "iopub.status.busy": "2024-09-24T11:38:42.010563Z",
     "iopub.status.idle": "2024-09-24T11:38:42.018594Z",
     "shell.execute_reply": "2024-09-24T11:38:42.017128Z"
    },
    "papermill": {
     "duration": 0.034521,
     "end_time": "2024-09-24T11:38:42.021474",
     "exception": false,
     "start_time": "2024-09-24T11:38:41.986953",
     "status": "completed"
    },
    "tags": []
   },
   "outputs": [],
   "source": [
    "def code_data(df: pd.DataFrame) -> pd.DataFrame:\n",
    "    # one hot encoder to category data\n",
    "    cat_cols = df.select_dtypes(include=\"category\")\n",
    "    df_cat = pd.get_dummies(cat_cols, dtype=\"int\")\n",
    "    df.drop(columns=cat_cols, inplace=True)\n",
    "    return pd.concat([df, df_cat], axis=1)"
   ]
  },
  {
   "cell_type": "markdown",
   "id": "bf791ee5",
   "metadata": {
    "papermill": {
     "duration": 0.023005,
     "end_time": "2024-09-24T11:38:42.066971",
     "exception": false,
     "start_time": "2024-09-24T11:38:42.043966",
     "status": "completed"
    },
    "tags": []
   },
   "source": [
    "Concatenar los dos dataframes, el que contiene las columnas categóricas codificadas y el dataframe de las columnas numéricas."
   ]
  },
  {
   "cell_type": "code",
   "execution_count": 18,
   "id": "f5a72a8a",
   "metadata": {
    "execution": {
     "iopub.execute_input": "2024-09-24T11:38:42.112560Z",
     "iopub.status.busy": "2024-09-24T11:38:42.111491Z",
     "iopub.status.idle": "2024-09-24T11:38:42.144698Z",
     "shell.execute_reply": "2024-09-24T11:38:42.143349Z"
    },
    "papermill": {
     "duration": 0.059242,
     "end_time": "2024-09-24T11:38:42.147380",
     "exception": false,
     "start_time": "2024-09-24T11:38:42.088138",
     "status": "completed"
    },
    "tags": []
   },
   "outputs": [
    {
     "data": {
      "text/html": [
       "<div>\n",
       "<style scoped>\n",
       "    .dataframe tbody tr th:only-of-type {\n",
       "        vertical-align: middle;\n",
       "    }\n",
       "\n",
       "    .dataframe tbody tr th {\n",
       "        vertical-align: top;\n",
       "    }\n",
       "\n",
       "    .dataframe thead th {\n",
       "        text-align: right;\n",
       "    }\n",
       "</style>\n",
       "<table border=\"1\" class=\"dataframe\">\n",
       "  <thead>\n",
       "    <tr style=\"text-align: right;\">\n",
       "      <th></th>\n",
       "      <th>CryoSleep</th>\n",
       "      <th>Age</th>\n",
       "      <th>VIP</th>\n",
       "      <th>RoomService</th>\n",
       "      <th>FoodCourt</th>\n",
       "      <th>ShoppingMall</th>\n",
       "      <th>Spa</th>\n",
       "      <th>VRDeck</th>\n",
       "      <th>Transported</th>\n",
       "      <th>Cab_num</th>\n",
       "      <th>...</th>\n",
       "      <th>Deck_A</th>\n",
       "      <th>Deck_B</th>\n",
       "      <th>Deck_C</th>\n",
       "      <th>Deck_D</th>\n",
       "      <th>Deck_E</th>\n",
       "      <th>Deck_F</th>\n",
       "      <th>Deck_G</th>\n",
       "      <th>Deck_T</th>\n",
       "      <th>Side_P</th>\n",
       "      <th>Side_S</th>\n",
       "    </tr>\n",
       "  </thead>\n",
       "  <tbody>\n",
       "    <tr>\n",
       "      <th>0</th>\n",
       "      <td>0</td>\n",
       "      <td>39</td>\n",
       "      <td>0</td>\n",
       "      <td>0</td>\n",
       "      <td>0</td>\n",
       "      <td>0</td>\n",
       "      <td>0</td>\n",
       "      <td>0</td>\n",
       "      <td>0</td>\n",
       "      <td>0</td>\n",
       "      <td>...</td>\n",
       "      <td>0</td>\n",
       "      <td>1</td>\n",
       "      <td>0</td>\n",
       "      <td>0</td>\n",
       "      <td>0</td>\n",
       "      <td>0</td>\n",
       "      <td>0</td>\n",
       "      <td>0</td>\n",
       "      <td>1</td>\n",
       "      <td>0</td>\n",
       "    </tr>\n",
       "    <tr>\n",
       "      <th>1</th>\n",
       "      <td>0</td>\n",
       "      <td>24</td>\n",
       "      <td>0</td>\n",
       "      <td>109</td>\n",
       "      <td>9</td>\n",
       "      <td>25</td>\n",
       "      <td>549</td>\n",
       "      <td>44</td>\n",
       "      <td>1</td>\n",
       "      <td>0</td>\n",
       "      <td>...</td>\n",
       "      <td>0</td>\n",
       "      <td>0</td>\n",
       "      <td>0</td>\n",
       "      <td>0</td>\n",
       "      <td>0</td>\n",
       "      <td>1</td>\n",
       "      <td>0</td>\n",
       "      <td>0</td>\n",
       "      <td>0</td>\n",
       "      <td>1</td>\n",
       "    </tr>\n",
       "    <tr>\n",
       "      <th>2</th>\n",
       "      <td>0</td>\n",
       "      <td>58</td>\n",
       "      <td>1</td>\n",
       "      <td>43</td>\n",
       "      <td>3576</td>\n",
       "      <td>0</td>\n",
       "      <td>6715</td>\n",
       "      <td>49</td>\n",
       "      <td>0</td>\n",
       "      <td>0</td>\n",
       "      <td>...</td>\n",
       "      <td>1</td>\n",
       "      <td>0</td>\n",
       "      <td>0</td>\n",
       "      <td>0</td>\n",
       "      <td>0</td>\n",
       "      <td>0</td>\n",
       "      <td>0</td>\n",
       "      <td>0</td>\n",
       "      <td>0</td>\n",
       "      <td>1</td>\n",
       "    </tr>\n",
       "    <tr>\n",
       "      <th>3</th>\n",
       "      <td>0</td>\n",
       "      <td>33</td>\n",
       "      <td>0</td>\n",
       "      <td>0</td>\n",
       "      <td>1283</td>\n",
       "      <td>371</td>\n",
       "      <td>3329</td>\n",
       "      <td>193</td>\n",
       "      <td>0</td>\n",
       "      <td>0</td>\n",
       "      <td>...</td>\n",
       "      <td>1</td>\n",
       "      <td>0</td>\n",
       "      <td>0</td>\n",
       "      <td>0</td>\n",
       "      <td>0</td>\n",
       "      <td>0</td>\n",
       "      <td>0</td>\n",
       "      <td>0</td>\n",
       "      <td>0</td>\n",
       "      <td>1</td>\n",
       "    </tr>\n",
       "    <tr>\n",
       "      <th>4</th>\n",
       "      <td>0</td>\n",
       "      <td>16</td>\n",
       "      <td>0</td>\n",
       "      <td>303</td>\n",
       "      <td>70</td>\n",
       "      <td>151</td>\n",
       "      <td>565</td>\n",
       "      <td>2</td>\n",
       "      <td>1</td>\n",
       "      <td>1</td>\n",
       "      <td>...</td>\n",
       "      <td>0</td>\n",
       "      <td>0</td>\n",
       "      <td>0</td>\n",
       "      <td>0</td>\n",
       "      <td>0</td>\n",
       "      <td>1</td>\n",
       "      <td>0</td>\n",
       "      <td>0</td>\n",
       "      <td>0</td>\n",
       "      <td>1</td>\n",
       "    </tr>\n",
       "    <tr>\n",
       "      <th>...</th>\n",
       "      <td>...</td>\n",
       "      <td>...</td>\n",
       "      <td>...</td>\n",
       "      <td>...</td>\n",
       "      <td>...</td>\n",
       "      <td>...</td>\n",
       "      <td>...</td>\n",
       "      <td>...</td>\n",
       "      <td>...</td>\n",
       "      <td>...</td>\n",
       "      <td>...</td>\n",
       "      <td>...</td>\n",
       "      <td>...</td>\n",
       "      <td>...</td>\n",
       "      <td>...</td>\n",
       "      <td>...</td>\n",
       "      <td>...</td>\n",
       "      <td>...</td>\n",
       "      <td>...</td>\n",
       "      <td>...</td>\n",
       "      <td>...</td>\n",
       "    </tr>\n",
       "    <tr>\n",
       "      <th>8688</th>\n",
       "      <td>0</td>\n",
       "      <td>41</td>\n",
       "      <td>1</td>\n",
       "      <td>0</td>\n",
       "      <td>6819</td>\n",
       "      <td>0</td>\n",
       "      <td>1643</td>\n",
       "      <td>74</td>\n",
       "      <td>0</td>\n",
       "      <td>98</td>\n",
       "      <td>...</td>\n",
       "      <td>1</td>\n",
       "      <td>0</td>\n",
       "      <td>0</td>\n",
       "      <td>0</td>\n",
       "      <td>0</td>\n",
       "      <td>0</td>\n",
       "      <td>0</td>\n",
       "      <td>0</td>\n",
       "      <td>1</td>\n",
       "      <td>0</td>\n",
       "    </tr>\n",
       "    <tr>\n",
       "      <th>8689</th>\n",
       "      <td>1</td>\n",
       "      <td>18</td>\n",
       "      <td>0</td>\n",
       "      <td>0</td>\n",
       "      <td>0</td>\n",
       "      <td>0</td>\n",
       "      <td>0</td>\n",
       "      <td>0</td>\n",
       "      <td>0</td>\n",
       "      <td>1499</td>\n",
       "      <td>...</td>\n",
       "      <td>0</td>\n",
       "      <td>0</td>\n",
       "      <td>0</td>\n",
       "      <td>0</td>\n",
       "      <td>0</td>\n",
       "      <td>0</td>\n",
       "      <td>1</td>\n",
       "      <td>0</td>\n",
       "      <td>0</td>\n",
       "      <td>1</td>\n",
       "    </tr>\n",
       "    <tr>\n",
       "      <th>8690</th>\n",
       "      <td>0</td>\n",
       "      <td>26</td>\n",
       "      <td>0</td>\n",
       "      <td>0</td>\n",
       "      <td>0</td>\n",
       "      <td>1872</td>\n",
       "      <td>1</td>\n",
       "      <td>0</td>\n",
       "      <td>1</td>\n",
       "      <td>1500</td>\n",
       "      <td>...</td>\n",
       "      <td>0</td>\n",
       "      <td>0</td>\n",
       "      <td>0</td>\n",
       "      <td>0</td>\n",
       "      <td>0</td>\n",
       "      <td>0</td>\n",
       "      <td>1</td>\n",
       "      <td>0</td>\n",
       "      <td>0</td>\n",
       "      <td>1</td>\n",
       "    </tr>\n",
       "    <tr>\n",
       "      <th>8691</th>\n",
       "      <td>0</td>\n",
       "      <td>32</td>\n",
       "      <td>0</td>\n",
       "      <td>0</td>\n",
       "      <td>1049</td>\n",
       "      <td>0</td>\n",
       "      <td>353</td>\n",
       "      <td>3235</td>\n",
       "      <td>0</td>\n",
       "      <td>608</td>\n",
       "      <td>...</td>\n",
       "      <td>0</td>\n",
       "      <td>0</td>\n",
       "      <td>0</td>\n",
       "      <td>0</td>\n",
       "      <td>1</td>\n",
       "      <td>0</td>\n",
       "      <td>0</td>\n",
       "      <td>0</td>\n",
       "      <td>0</td>\n",
       "      <td>1</td>\n",
       "    </tr>\n",
       "    <tr>\n",
       "      <th>8692</th>\n",
       "      <td>0</td>\n",
       "      <td>44</td>\n",
       "      <td>0</td>\n",
       "      <td>126</td>\n",
       "      <td>4688</td>\n",
       "      <td>0</td>\n",
       "      <td>0</td>\n",
       "      <td>12</td>\n",
       "      <td>1</td>\n",
       "      <td>608</td>\n",
       "      <td>...</td>\n",
       "      <td>0</td>\n",
       "      <td>0</td>\n",
       "      <td>0</td>\n",
       "      <td>0</td>\n",
       "      <td>1</td>\n",
       "      <td>0</td>\n",
       "      <td>0</td>\n",
       "      <td>0</td>\n",
       "      <td>0</td>\n",
       "      <td>1</td>\n",
       "    </tr>\n",
       "  </tbody>\n",
       "</table>\n",
       "<p>8693 rows × 26 columns</p>\n",
       "</div>"
      ],
      "text/plain": [
       "      CryoSleep  Age  VIP  RoomService  FoodCourt  ShoppingMall   Spa  VRDeck  \\\n",
       "0             0   39    0            0          0             0     0       0   \n",
       "1             0   24    0          109          9            25   549      44   \n",
       "2             0   58    1           43       3576             0  6715      49   \n",
       "3             0   33    0            0       1283           371  3329     193   \n",
       "4             0   16    0          303         70           151   565       2   \n",
       "...         ...  ...  ...          ...        ...           ...   ...     ...   \n",
       "8688          0   41    1            0       6819             0  1643      74   \n",
       "8689          1   18    0            0          0             0     0       0   \n",
       "8690          0   26    0            0          0          1872     1       0   \n",
       "8691          0   32    0            0       1049             0   353    3235   \n",
       "8692          0   44    0          126       4688             0     0      12   \n",
       "\n",
       "      Transported  Cab_num  ...  Deck_A  Deck_B  Deck_C  Deck_D  Deck_E  \\\n",
       "0               0        0  ...       0       1       0       0       0   \n",
       "1               1        0  ...       0       0       0       0       0   \n",
       "2               0        0  ...       1       0       0       0       0   \n",
       "3               0        0  ...       1       0       0       0       0   \n",
       "4               1        1  ...       0       0       0       0       0   \n",
       "...           ...      ...  ...     ...     ...     ...     ...     ...   \n",
       "8688            0       98  ...       1       0       0       0       0   \n",
       "8689            0     1499  ...       0       0       0       0       0   \n",
       "8690            1     1500  ...       0       0       0       0       0   \n",
       "8691            0      608  ...       0       0       0       0       1   \n",
       "8692            1      608  ...       0       0       0       0       1   \n",
       "\n",
       "      Deck_F  Deck_G  Deck_T  Side_P  Side_S  \n",
       "0          0       0       0       1       0  \n",
       "1          1       0       0       0       1  \n",
       "2          0       0       0       0       1  \n",
       "3          0       0       0       0       1  \n",
       "4          1       0       0       0       1  \n",
       "...      ...     ...     ...     ...     ...  \n",
       "8688       0       0       0       1       0  \n",
       "8689       0       1       0       0       1  \n",
       "8690       0       1       0       0       1  \n",
       "8691       0       0       0       0       1  \n",
       "8692       0       0       0       0       1  \n",
       "\n",
       "[8693 rows x 26 columns]"
      ]
     },
     "execution_count": 18,
     "metadata": {},
     "output_type": "execute_result"
    }
   ],
   "source": [
    "new_df = code_data(df)\n",
    "new_df"
   ]
  },
  {
   "cell_type": "code",
   "execution_count": 19,
   "id": "92e14030",
   "metadata": {
    "execution": {
     "iopub.execute_input": "2024-09-24T11:38:42.196072Z",
     "iopub.status.busy": "2024-09-24T11:38:42.195570Z",
     "iopub.status.idle": "2024-09-24T11:38:42.300400Z",
     "shell.execute_reply": "2024-09-24T11:38:42.299053Z"
    },
    "papermill": {
     "duration": 0.131793,
     "end_time": "2024-09-24T11:38:42.303315",
     "exception": false,
     "start_time": "2024-09-24T11:38:42.171522",
     "status": "completed"
    },
    "tags": []
   },
   "outputs": [],
   "source": [
    "# Guardar el dataframe con valores numéricos en un nuevo archivo.\n",
    "new_df.to_csv(\"/kaggle/working/clean_data.csv\")"
   ]
  },
  {
   "cell_type": "markdown",
   "id": "f9f86394",
   "metadata": {
    "papermill": {
     "duration": 0.079714,
     "end_time": "2024-09-24T11:38:42.406545",
     "exception": false,
     "start_time": "2024-09-24T11:38:42.326831",
     "status": "completed"
    },
    "tags": []
   },
   "source": [
    "## 2. Train Model"
   ]
  },
  {
   "cell_type": "code",
   "execution_count": 20,
   "id": "7101e344",
   "metadata": {
    "execution": {
     "iopub.execute_input": "2024-09-24T11:38:42.453670Z",
     "iopub.status.busy": "2024-09-24T11:38:42.453169Z",
     "iopub.status.idle": "2024-09-24T11:38:42.495933Z",
     "shell.execute_reply": "2024-09-24T11:38:42.494675Z"
    },
    "papermill": {
     "duration": 0.070042,
     "end_time": "2024-09-24T11:38:42.498853",
     "exception": false,
     "start_time": "2024-09-24T11:38:42.428811",
     "status": "completed"
    },
    "tags": []
   },
   "outputs": [
    {
     "data": {
      "text/html": [
       "<div>\n",
       "<style scoped>\n",
       "    .dataframe tbody tr th:only-of-type {\n",
       "        vertical-align: middle;\n",
       "    }\n",
       "\n",
       "    .dataframe tbody tr th {\n",
       "        vertical-align: top;\n",
       "    }\n",
       "\n",
       "    .dataframe thead th {\n",
       "        text-align: right;\n",
       "    }\n",
       "</style>\n",
       "<table border=\"1\" class=\"dataframe\">\n",
       "  <thead>\n",
       "    <tr style=\"text-align: right;\">\n",
       "      <th></th>\n",
       "      <th>Unnamed: 0</th>\n",
       "      <th>CryoSleep</th>\n",
       "      <th>Age</th>\n",
       "      <th>VIP</th>\n",
       "      <th>RoomService</th>\n",
       "      <th>FoodCourt</th>\n",
       "      <th>ShoppingMall</th>\n",
       "      <th>Spa</th>\n",
       "      <th>VRDeck</th>\n",
       "      <th>Transported</th>\n",
       "      <th>...</th>\n",
       "      <th>Deck_A</th>\n",
       "      <th>Deck_B</th>\n",
       "      <th>Deck_C</th>\n",
       "      <th>Deck_D</th>\n",
       "      <th>Deck_E</th>\n",
       "      <th>Deck_F</th>\n",
       "      <th>Deck_G</th>\n",
       "      <th>Deck_T</th>\n",
       "      <th>Side_P</th>\n",
       "      <th>Side_S</th>\n",
       "    </tr>\n",
       "  </thead>\n",
       "  <tbody>\n",
       "    <tr>\n",
       "      <th>0</th>\n",
       "      <td>0</td>\n",
       "      <td>0</td>\n",
       "      <td>39</td>\n",
       "      <td>0</td>\n",
       "      <td>0</td>\n",
       "      <td>0</td>\n",
       "      <td>0</td>\n",
       "      <td>0</td>\n",
       "      <td>0</td>\n",
       "      <td>0</td>\n",
       "      <td>...</td>\n",
       "      <td>0</td>\n",
       "      <td>1</td>\n",
       "      <td>0</td>\n",
       "      <td>0</td>\n",
       "      <td>0</td>\n",
       "      <td>0</td>\n",
       "      <td>0</td>\n",
       "      <td>0</td>\n",
       "      <td>1</td>\n",
       "      <td>0</td>\n",
       "    </tr>\n",
       "    <tr>\n",
       "      <th>1</th>\n",
       "      <td>1</td>\n",
       "      <td>0</td>\n",
       "      <td>24</td>\n",
       "      <td>0</td>\n",
       "      <td>109</td>\n",
       "      <td>9</td>\n",
       "      <td>25</td>\n",
       "      <td>549</td>\n",
       "      <td>44</td>\n",
       "      <td>1</td>\n",
       "      <td>...</td>\n",
       "      <td>0</td>\n",
       "      <td>0</td>\n",
       "      <td>0</td>\n",
       "      <td>0</td>\n",
       "      <td>0</td>\n",
       "      <td>1</td>\n",
       "      <td>0</td>\n",
       "      <td>0</td>\n",
       "      <td>0</td>\n",
       "      <td>1</td>\n",
       "    </tr>\n",
       "    <tr>\n",
       "      <th>2</th>\n",
       "      <td>2</td>\n",
       "      <td>0</td>\n",
       "      <td>58</td>\n",
       "      <td>1</td>\n",
       "      <td>43</td>\n",
       "      <td>3576</td>\n",
       "      <td>0</td>\n",
       "      <td>6715</td>\n",
       "      <td>49</td>\n",
       "      <td>0</td>\n",
       "      <td>...</td>\n",
       "      <td>1</td>\n",
       "      <td>0</td>\n",
       "      <td>0</td>\n",
       "      <td>0</td>\n",
       "      <td>0</td>\n",
       "      <td>0</td>\n",
       "      <td>0</td>\n",
       "      <td>0</td>\n",
       "      <td>0</td>\n",
       "      <td>1</td>\n",
       "    </tr>\n",
       "    <tr>\n",
       "      <th>3</th>\n",
       "      <td>3</td>\n",
       "      <td>0</td>\n",
       "      <td>33</td>\n",
       "      <td>0</td>\n",
       "      <td>0</td>\n",
       "      <td>1283</td>\n",
       "      <td>371</td>\n",
       "      <td>3329</td>\n",
       "      <td>193</td>\n",
       "      <td>0</td>\n",
       "      <td>...</td>\n",
       "      <td>1</td>\n",
       "      <td>0</td>\n",
       "      <td>0</td>\n",
       "      <td>0</td>\n",
       "      <td>0</td>\n",
       "      <td>0</td>\n",
       "      <td>0</td>\n",
       "      <td>0</td>\n",
       "      <td>0</td>\n",
       "      <td>1</td>\n",
       "    </tr>\n",
       "    <tr>\n",
       "      <th>4</th>\n",
       "      <td>4</td>\n",
       "      <td>0</td>\n",
       "      <td>16</td>\n",
       "      <td>0</td>\n",
       "      <td>303</td>\n",
       "      <td>70</td>\n",
       "      <td>151</td>\n",
       "      <td>565</td>\n",
       "      <td>2</td>\n",
       "      <td>1</td>\n",
       "      <td>...</td>\n",
       "      <td>0</td>\n",
       "      <td>0</td>\n",
       "      <td>0</td>\n",
       "      <td>0</td>\n",
       "      <td>0</td>\n",
       "      <td>1</td>\n",
       "      <td>0</td>\n",
       "      <td>0</td>\n",
       "      <td>0</td>\n",
       "      <td>1</td>\n",
       "    </tr>\n",
       "  </tbody>\n",
       "</table>\n",
       "<p>5 rows × 27 columns</p>\n",
       "</div>"
      ],
      "text/plain": [
       "   Unnamed: 0  CryoSleep  Age  VIP  RoomService  FoodCourt  ShoppingMall  \\\n",
       "0           0          0   39    0            0          0             0   \n",
       "1           1          0   24    0          109          9            25   \n",
       "2           2          0   58    1           43       3576             0   \n",
       "3           3          0   33    0            0       1283           371   \n",
       "4           4          0   16    0          303         70           151   \n",
       "\n",
       "    Spa  VRDeck  Transported  ...  Deck_A  Deck_B  Deck_C  Deck_D  Deck_E  \\\n",
       "0     0       0            0  ...       0       1       0       0       0   \n",
       "1   549      44            1  ...       0       0       0       0       0   \n",
       "2  6715      49            0  ...       1       0       0       0       0   \n",
       "3  3329     193            0  ...       1       0       0       0       0   \n",
       "4   565       2            1  ...       0       0       0       0       0   \n",
       "\n",
       "   Deck_F  Deck_G  Deck_T  Side_P  Side_S  \n",
       "0       0       0       0       1       0  \n",
       "1       1       0       0       0       1  \n",
       "2       0       0       0       0       1  \n",
       "3       0       0       0       0       1  \n",
       "4       1       0       0       0       1  \n",
       "\n",
       "[5 rows x 27 columns]"
      ]
     },
     "execution_count": 20,
     "metadata": {},
     "output_type": "execute_result"
    }
   ],
   "source": [
    "# Cargar la data.\n",
    "data = pd.read_csv(\"/kaggle/working/clean_data.csv\")\n",
    "data.head()"
   ]
  },
  {
   "cell_type": "code",
   "execution_count": 21,
   "id": "ede4958e",
   "metadata": {
    "execution": {
     "iopub.execute_input": "2024-09-24T11:38:42.546661Z",
     "iopub.status.busy": "2024-09-24T11:38:42.546187Z",
     "iopub.status.idle": "2024-09-24T11:38:42.570902Z",
     "shell.execute_reply": "2024-09-24T11:38:42.569262Z"
    },
    "papermill": {
     "duration": 0.051542,
     "end_time": "2024-09-24T11:38:42.573641",
     "exception": false,
     "start_time": "2024-09-24T11:38:42.522099",
     "status": "completed"
    },
    "tags": []
   },
   "outputs": [
    {
     "data": {
      "text/html": [
       "<div>\n",
       "<style scoped>\n",
       "    .dataframe tbody tr th:only-of-type {\n",
       "        vertical-align: middle;\n",
       "    }\n",
       "\n",
       "    .dataframe tbody tr th {\n",
       "        vertical-align: top;\n",
       "    }\n",
       "\n",
       "    .dataframe thead th {\n",
       "        text-align: right;\n",
       "    }\n",
       "</style>\n",
       "<table border=\"1\" class=\"dataframe\">\n",
       "  <thead>\n",
       "    <tr style=\"text-align: right;\">\n",
       "      <th></th>\n",
       "      <th>CryoSleep</th>\n",
       "      <th>Age</th>\n",
       "      <th>VIP</th>\n",
       "      <th>RoomService</th>\n",
       "      <th>FoodCourt</th>\n",
       "      <th>ShoppingMall</th>\n",
       "      <th>Spa</th>\n",
       "      <th>VRDeck</th>\n",
       "      <th>Transported</th>\n",
       "      <th>Cab_num</th>\n",
       "      <th>...</th>\n",
       "      <th>Deck_A</th>\n",
       "      <th>Deck_B</th>\n",
       "      <th>Deck_C</th>\n",
       "      <th>Deck_D</th>\n",
       "      <th>Deck_E</th>\n",
       "      <th>Deck_F</th>\n",
       "      <th>Deck_G</th>\n",
       "      <th>Deck_T</th>\n",
       "      <th>Side_P</th>\n",
       "      <th>Side_S</th>\n",
       "    </tr>\n",
       "  </thead>\n",
       "  <tbody>\n",
       "    <tr>\n",
       "      <th>0</th>\n",
       "      <td>0</td>\n",
       "      <td>39</td>\n",
       "      <td>0</td>\n",
       "      <td>0</td>\n",
       "      <td>0</td>\n",
       "      <td>0</td>\n",
       "      <td>0</td>\n",
       "      <td>0</td>\n",
       "      <td>0</td>\n",
       "      <td>0</td>\n",
       "      <td>...</td>\n",
       "      <td>0</td>\n",
       "      <td>1</td>\n",
       "      <td>0</td>\n",
       "      <td>0</td>\n",
       "      <td>0</td>\n",
       "      <td>0</td>\n",
       "      <td>0</td>\n",
       "      <td>0</td>\n",
       "      <td>1</td>\n",
       "      <td>0</td>\n",
       "    </tr>\n",
       "    <tr>\n",
       "      <th>1</th>\n",
       "      <td>0</td>\n",
       "      <td>24</td>\n",
       "      <td>0</td>\n",
       "      <td>109</td>\n",
       "      <td>9</td>\n",
       "      <td>25</td>\n",
       "      <td>549</td>\n",
       "      <td>44</td>\n",
       "      <td>1</td>\n",
       "      <td>0</td>\n",
       "      <td>...</td>\n",
       "      <td>0</td>\n",
       "      <td>0</td>\n",
       "      <td>0</td>\n",
       "      <td>0</td>\n",
       "      <td>0</td>\n",
       "      <td>1</td>\n",
       "      <td>0</td>\n",
       "      <td>0</td>\n",
       "      <td>0</td>\n",
       "      <td>1</td>\n",
       "    </tr>\n",
       "    <tr>\n",
       "      <th>2</th>\n",
       "      <td>0</td>\n",
       "      <td>58</td>\n",
       "      <td>1</td>\n",
       "      <td>43</td>\n",
       "      <td>3576</td>\n",
       "      <td>0</td>\n",
       "      <td>6715</td>\n",
       "      <td>49</td>\n",
       "      <td>0</td>\n",
       "      <td>0</td>\n",
       "      <td>...</td>\n",
       "      <td>1</td>\n",
       "      <td>0</td>\n",
       "      <td>0</td>\n",
       "      <td>0</td>\n",
       "      <td>0</td>\n",
       "      <td>0</td>\n",
       "      <td>0</td>\n",
       "      <td>0</td>\n",
       "      <td>0</td>\n",
       "      <td>1</td>\n",
       "    </tr>\n",
       "    <tr>\n",
       "      <th>3</th>\n",
       "      <td>0</td>\n",
       "      <td>33</td>\n",
       "      <td>0</td>\n",
       "      <td>0</td>\n",
       "      <td>1283</td>\n",
       "      <td>371</td>\n",
       "      <td>3329</td>\n",
       "      <td>193</td>\n",
       "      <td>0</td>\n",
       "      <td>0</td>\n",
       "      <td>...</td>\n",
       "      <td>1</td>\n",
       "      <td>0</td>\n",
       "      <td>0</td>\n",
       "      <td>0</td>\n",
       "      <td>0</td>\n",
       "      <td>0</td>\n",
       "      <td>0</td>\n",
       "      <td>0</td>\n",
       "      <td>0</td>\n",
       "      <td>1</td>\n",
       "    </tr>\n",
       "    <tr>\n",
       "      <th>4</th>\n",
       "      <td>0</td>\n",
       "      <td>16</td>\n",
       "      <td>0</td>\n",
       "      <td>303</td>\n",
       "      <td>70</td>\n",
       "      <td>151</td>\n",
       "      <td>565</td>\n",
       "      <td>2</td>\n",
       "      <td>1</td>\n",
       "      <td>1</td>\n",
       "      <td>...</td>\n",
       "      <td>0</td>\n",
       "      <td>0</td>\n",
       "      <td>0</td>\n",
       "      <td>0</td>\n",
       "      <td>0</td>\n",
       "      <td>1</td>\n",
       "      <td>0</td>\n",
       "      <td>0</td>\n",
       "      <td>0</td>\n",
       "      <td>1</td>\n",
       "    </tr>\n",
       "  </tbody>\n",
       "</table>\n",
       "<p>5 rows × 26 columns</p>\n",
       "</div>"
      ],
      "text/plain": [
       "   CryoSleep  Age  VIP  RoomService  FoodCourt  ShoppingMall   Spa  VRDeck  \\\n",
       "0          0   39    0            0          0             0     0       0   \n",
       "1          0   24    0          109          9            25   549      44   \n",
       "2          0   58    1           43       3576             0  6715      49   \n",
       "3          0   33    0            0       1283           371  3329     193   \n",
       "4          0   16    0          303         70           151   565       2   \n",
       "\n",
       "   Transported  Cab_num  ...  Deck_A  Deck_B  Deck_C  Deck_D  Deck_E  Deck_F  \\\n",
       "0            0        0  ...       0       1       0       0       0       0   \n",
       "1            1        0  ...       0       0       0       0       0       1   \n",
       "2            0        0  ...       1       0       0       0       0       0   \n",
       "3            0        0  ...       1       0       0       0       0       0   \n",
       "4            1        1  ...       0       0       0       0       0       1   \n",
       "\n",
       "   Deck_G  Deck_T  Side_P  Side_S  \n",
       "0       0       0       1       0  \n",
       "1       0       0       0       1  \n",
       "2       0       0       0       1  \n",
       "3       0       0       0       1  \n",
       "4       0       0       0       1  \n",
       "\n",
       "[5 rows x 26 columns]"
      ]
     },
     "execution_count": 21,
     "metadata": {},
     "output_type": "execute_result"
    }
   ],
   "source": [
    "# Eliminar columna Unnamed: 0\n",
    "data.drop(columns=\"Unnamed: 0\", axis=1, inplace=True)\n",
    "data.head()"
   ]
  },
  {
   "cell_type": "code",
   "execution_count": 22,
   "id": "8d9893c0",
   "metadata": {
    "execution": {
     "iopub.execute_input": "2024-09-24T11:38:42.623706Z",
     "iopub.status.busy": "2024-09-24T11:38:42.623220Z",
     "iopub.status.idle": "2024-09-24T11:38:42.630932Z",
     "shell.execute_reply": "2024-09-24T11:38:42.629503Z"
    },
    "papermill": {
     "duration": 0.036838,
     "end_time": "2024-09-24T11:38:42.633688",
     "exception": false,
     "start_time": "2024-09-24T11:38:42.596850",
     "status": "completed"
    },
    "tags": []
   },
   "outputs": [],
   "source": [
    "# Dividir datos por features y targe\n",
    "X = data.drop(columns=\"Transported\")\n",
    "y = data[\"Transported\"]"
   ]
  },
  {
   "cell_type": "code",
   "execution_count": 23,
   "id": "6c2ffd83",
   "metadata": {
    "execution": {
     "iopub.execute_input": "2024-09-24T11:38:42.681468Z",
     "iopub.status.busy": "2024-09-24T11:38:42.681029Z",
     "iopub.status.idle": "2024-09-24T11:38:43.373327Z",
     "shell.execute_reply": "2024-09-24T11:38:43.372005Z"
    },
    "papermill": {
     "duration": 0.72119,
     "end_time": "2024-09-24T11:38:43.377665",
     "exception": false,
     "start_time": "2024-09-24T11:38:42.656475",
     "status": "completed"
    },
    "tags": []
   },
   "outputs": [],
   "source": [
    "from sklearn.model_selection import train_test_split, GridSearchCV\n",
    "from sklearn.ensemble import RandomForestClassifier\n",
    "\n",
    "X_train, X_test, y_train, y_test = train_test_split(X, y, test_size=0.33, random_state=42)\n",
    "#print(f\"Size x_train: {X_train.shape[0]}\\nSize x_test: {X_test.shape[0]}\")\n",
    "\n",
    "rfcls = RandomForestClassifier(random_state=42)"
   ]
  },
  {
   "cell_type": "markdown",
   "id": "89077c44",
   "metadata": {},
   "source": [
    "Usamos GridSearchCV para encontrar la mejore cobinación de hiperparámetros."
   ]
  },
  {
   "cell_type": "code",
   "execution_count": 24,
   "id": "60f6db7b",
   "metadata": {
    "execution": {
     "iopub.execute_input": "2024-09-24T11:38:43.426511Z",
     "iopub.status.busy": "2024-09-24T11:38:43.426035Z",
     "iopub.status.idle": "2024-09-24T11:39:23.972576Z",
     "shell.execute_reply": "2024-09-24T11:39:23.971332Z"
    },
    "papermill": {
     "duration": 40.574024,
     "end_time": "2024-09-24T11:39:23.975581",
     "exception": false,
     "start_time": "2024-09-24T11:38:43.401557",
     "status": "completed"
    },
    "tags": []
   },
   "outputs": [
    {
     "name": "stdout",
     "output_type": "stream",
     "text": [
      "Fitting 5 folds for each of 16 candidates, totalling 80 fits\n",
      "[CV] END .max_depth=None, max_features=sqrt, n_estimators=30; total time=   0.3s\n",
      "[CV] END .max_depth=None, max_features=sqrt, n_estimators=30; total time=   0.3s\n",
      "[CV] END .max_depth=None, max_features=sqrt, n_estimators=30; total time=   0.3s\n",
      "[CV] END .max_depth=None, max_features=sqrt, n_estimators=30; total time=   0.3s\n",
      "[CV] END .max_depth=None, max_features=sqrt, n_estimators=30; total time=   0.3s\n",
      "[CV] END .max_depth=None, max_features=sqrt, n_estimators=50; total time=   0.4s\n",
      "[CV] END .max_depth=None, max_features=sqrt, n_estimators=50; total time=   0.5s\n",
      "[CV] END .max_depth=None, max_features=sqrt, n_estimators=50; total time=   0.4s\n",
      "[CV] END .max_depth=None, max_features=sqrt, n_estimators=50; total time=   0.4s\n",
      "[CV] END .max_depth=None, max_features=sqrt, n_estimators=50; total time=   0.4s\n",
      "[CV] END .max_depth=None, max_features=sqrt, n_estimators=70; total time=   0.6s\n",
      "[CV] END .max_depth=None, max_features=sqrt, n_estimators=70; total time=   0.6s\n",
      "[CV] END .max_depth=None, max_features=sqrt, n_estimators=70; total time=   0.6s\n",
      "[CV] END .max_depth=None, max_features=sqrt, n_estimators=70; total time=   0.6s\n",
      "[CV] END .max_depth=None, max_features=sqrt, n_estimators=70; total time=   0.6s\n",
      "[CV] END .max_depth=None, max_features=sqrt, n_estimators=90; total time=   0.8s\n",
      "[CV] END .max_depth=None, max_features=sqrt, n_estimators=90; total time=   0.8s\n",
      "[CV] END .max_depth=None, max_features=sqrt, n_estimators=90; total time=   0.8s\n",
      "[CV] END .max_depth=None, max_features=sqrt, n_estimators=90; total time=   0.8s\n",
      "[CV] END .max_depth=None, max_features=sqrt, n_estimators=90; total time=   0.8s\n",
      "[CV] END ....max_depth=3, max_features=sqrt, n_estimators=30; total time=   0.1s\n",
      "[CV] END ....max_depth=3, max_features=sqrt, n_estimators=30; total time=   0.1s\n",
      "[CV] END ....max_depth=3, max_features=sqrt, n_estimators=30; total time=   0.1s\n",
      "[CV] END ....max_depth=3, max_features=sqrt, n_estimators=30; total time=   0.1s\n",
      "[CV] END ....max_depth=3, max_features=sqrt, n_estimators=30; total time=   0.1s\n",
      "[CV] END ....max_depth=3, max_features=sqrt, n_estimators=50; total time=   0.2s\n",
      "[CV] END ....max_depth=3, max_features=sqrt, n_estimators=50; total time=   0.2s\n",
      "[CV] END ....max_depth=3, max_features=sqrt, n_estimators=50; total time=   0.2s\n",
      "[CV] END ....max_depth=3, max_features=sqrt, n_estimators=50; total time=   0.2s\n",
      "[CV] END ....max_depth=3, max_features=sqrt, n_estimators=50; total time=   0.2s\n",
      "[CV] END ....max_depth=3, max_features=sqrt, n_estimators=70; total time=   0.3s\n",
      "[CV] END ....max_depth=3, max_features=sqrt, n_estimators=70; total time=   0.3s\n",
      "[CV] END ....max_depth=3, max_features=sqrt, n_estimators=70; total time=   0.3s\n",
      "[CV] END ....max_depth=3, max_features=sqrt, n_estimators=70; total time=   0.3s\n",
      "[CV] END ....max_depth=3, max_features=sqrt, n_estimators=70; total time=   0.3s\n",
      "[CV] END ....max_depth=3, max_features=sqrt, n_estimators=90; total time=   0.4s\n",
      "[CV] END ....max_depth=3, max_features=sqrt, n_estimators=90; total time=   0.4s\n",
      "[CV] END ....max_depth=3, max_features=sqrt, n_estimators=90; total time=   0.4s\n",
      "[CV] END ....max_depth=3, max_features=sqrt, n_estimators=90; total time=   0.4s\n",
      "[CV] END ....max_depth=3, max_features=sqrt, n_estimators=90; total time=   0.5s\n",
      "[CV] END ...max_depth=10, max_features=sqrt, n_estimators=30; total time=   0.3s\n",
      "[CV] END ...max_depth=10, max_features=sqrt, n_estimators=30; total time=   0.3s\n",
      "[CV] END ...max_depth=10, max_features=sqrt, n_estimators=30; total time=   0.3s\n",
      "[CV] END ...max_depth=10, max_features=sqrt, n_estimators=30; total time=   0.3s\n",
      "[CV] END ...max_depth=10, max_features=sqrt, n_estimators=30; total time=   0.3s\n",
      "[CV] END ...max_depth=10, max_features=sqrt, n_estimators=50; total time=   0.4s\n",
      "[CV] END ...max_depth=10, max_features=sqrt, n_estimators=50; total time=   0.4s\n",
      "[CV] END ...max_depth=10, max_features=sqrt, n_estimators=50; total time=   0.4s\n",
      "[CV] END ...max_depth=10, max_features=sqrt, n_estimators=50; total time=   0.4s\n",
      "[CV] END ...max_depth=10, max_features=sqrt, n_estimators=50; total time=   0.4s\n",
      "[CV] END ...max_depth=10, max_features=sqrt, n_estimators=70; total time=   0.5s\n",
      "[CV] END ...max_depth=10, max_features=sqrt, n_estimators=70; total time=   0.5s\n",
      "[CV] END ...max_depth=10, max_features=sqrt, n_estimators=70; total time=   0.5s\n",
      "[CV] END ...max_depth=10, max_features=sqrt, n_estimators=70; total time=   0.5s\n",
      "[CV] END ...max_depth=10, max_features=sqrt, n_estimators=70; total time=   0.5s\n",
      "[CV] END ...max_depth=10, max_features=sqrt, n_estimators=90; total time=   0.7s\n",
      "[CV] END ...max_depth=10, max_features=sqrt, n_estimators=90; total time=   0.7s\n",
      "[CV] END ...max_depth=10, max_features=sqrt, n_estimators=90; total time=   0.7s\n",
      "[CV] END ...max_depth=10, max_features=sqrt, n_estimators=90; total time=   0.7s\n",
      "[CV] END ...max_depth=10, max_features=sqrt, n_estimators=90; total time=   0.7s\n",
      "[CV] END ...max_depth=20, max_features=sqrt, n_estimators=30; total time=   0.3s\n",
      "[CV] END ...max_depth=20, max_features=sqrt, n_estimators=30; total time=   0.3s\n",
      "[CV] END ...max_depth=20, max_features=sqrt, n_estimators=30; total time=   0.3s\n",
      "[CV] END ...max_depth=20, max_features=sqrt, n_estimators=30; total time=   0.3s\n",
      "[CV] END ...max_depth=20, max_features=sqrt, n_estimators=30; total time=   0.3s\n",
      "[CV] END ...max_depth=20, max_features=sqrt, n_estimators=50; total time=   0.4s\n",
      "[CV] END ...max_depth=20, max_features=sqrt, n_estimators=50; total time=   0.4s\n",
      "[CV] END ...max_depth=20, max_features=sqrt, n_estimators=50; total time=   0.4s\n",
      "[CV] END ...max_depth=20, max_features=sqrt, n_estimators=50; total time=   0.4s\n",
      "[CV] END ...max_depth=20, max_features=sqrt, n_estimators=50; total time=   0.4s\n",
      "[CV] END ...max_depth=20, max_features=sqrt, n_estimators=70; total time=   0.6s\n",
      "[CV] END ...max_depth=20, max_features=sqrt, n_estimators=70; total time=   0.6s\n",
      "[CV] END ...max_depth=20, max_features=sqrt, n_estimators=70; total time=   0.6s\n",
      "[CV] END ...max_depth=20, max_features=sqrt, n_estimators=70; total time=   0.6s\n",
      "[CV] END ...max_depth=20, max_features=sqrt, n_estimators=70; total time=   0.6s\n",
      "[CV] END ...max_depth=20, max_features=sqrt, n_estimators=90; total time=   0.8s\n",
      "[CV] END ...max_depth=20, max_features=sqrt, n_estimators=90; total time=   0.8s\n",
      "[CV] END ...max_depth=20, max_features=sqrt, n_estimators=90; total time=   0.8s\n",
      "[CV] END ...max_depth=20, max_features=sqrt, n_estimators=90; total time=   0.8s\n",
      "[CV] END ...max_depth=20, max_features=sqrt, n_estimators=90; total time=   0.8s\n"
     ]
    },
    {
     "data": {
      "text/html": [
       "<style>#sk-container-id-1 {color: black;background-color: white;}#sk-container-id-1 pre{padding: 0;}#sk-container-id-1 div.sk-toggleable {background-color: white;}#sk-container-id-1 label.sk-toggleable__label {cursor: pointer;display: block;width: 100%;margin-bottom: 0;padding: 0.3em;box-sizing: border-box;text-align: center;}#sk-container-id-1 label.sk-toggleable__label-arrow:before {content: \"▸\";float: left;margin-right: 0.25em;color: #696969;}#sk-container-id-1 label.sk-toggleable__label-arrow:hover:before {color: black;}#sk-container-id-1 div.sk-estimator:hover label.sk-toggleable__label-arrow:before {color: black;}#sk-container-id-1 div.sk-toggleable__content {max-height: 0;max-width: 0;overflow: hidden;text-align: left;background-color: #f0f8ff;}#sk-container-id-1 div.sk-toggleable__content pre {margin: 0.2em;color: black;border-radius: 0.25em;background-color: #f0f8ff;}#sk-container-id-1 input.sk-toggleable__control:checked~div.sk-toggleable__content {max-height: 200px;max-width: 100%;overflow: auto;}#sk-container-id-1 input.sk-toggleable__control:checked~label.sk-toggleable__label-arrow:before {content: \"▾\";}#sk-container-id-1 div.sk-estimator input.sk-toggleable__control:checked~label.sk-toggleable__label {background-color: #d4ebff;}#sk-container-id-1 div.sk-label input.sk-toggleable__control:checked~label.sk-toggleable__label {background-color: #d4ebff;}#sk-container-id-1 input.sk-hidden--visually {border: 0;clip: rect(1px 1px 1px 1px);clip: rect(1px, 1px, 1px, 1px);height: 1px;margin: -1px;overflow: hidden;padding: 0;position: absolute;width: 1px;}#sk-container-id-1 div.sk-estimator {font-family: monospace;background-color: #f0f8ff;border: 1px dotted black;border-radius: 0.25em;box-sizing: border-box;margin-bottom: 0.5em;}#sk-container-id-1 div.sk-estimator:hover {background-color: #d4ebff;}#sk-container-id-1 div.sk-parallel-item::after {content: \"\";width: 100%;border-bottom: 1px solid gray;flex-grow: 1;}#sk-container-id-1 div.sk-label:hover label.sk-toggleable__label {background-color: #d4ebff;}#sk-container-id-1 div.sk-serial::before {content: \"\";position: absolute;border-left: 1px solid gray;box-sizing: border-box;top: 0;bottom: 0;left: 50%;z-index: 0;}#sk-container-id-1 div.sk-serial {display: flex;flex-direction: column;align-items: center;background-color: white;padding-right: 0.2em;padding-left: 0.2em;position: relative;}#sk-container-id-1 div.sk-item {position: relative;z-index: 1;}#sk-container-id-1 div.sk-parallel {display: flex;align-items: stretch;justify-content: center;background-color: white;position: relative;}#sk-container-id-1 div.sk-item::before, #sk-container-id-1 div.sk-parallel-item::before {content: \"\";position: absolute;border-left: 1px solid gray;box-sizing: border-box;top: 0;bottom: 0;left: 50%;z-index: -1;}#sk-container-id-1 div.sk-parallel-item {display: flex;flex-direction: column;z-index: 1;position: relative;background-color: white;}#sk-container-id-1 div.sk-parallel-item:first-child::after {align-self: flex-end;width: 50%;}#sk-container-id-1 div.sk-parallel-item:last-child::after {align-self: flex-start;width: 50%;}#sk-container-id-1 div.sk-parallel-item:only-child::after {width: 0;}#sk-container-id-1 div.sk-dashed-wrapped {border: 1px dashed gray;margin: 0 0.4em 0.5em 0.4em;box-sizing: border-box;padding-bottom: 0.4em;background-color: white;}#sk-container-id-1 div.sk-label label {font-family: monospace;font-weight: bold;display: inline-block;line-height: 1.2em;}#sk-container-id-1 div.sk-label-container {text-align: center;}#sk-container-id-1 div.sk-container {/* jupyter's `normalize.less` sets `[hidden] { display: none; }` but bootstrap.min.css set `[hidden] { display: none !important; }` so we also need the `!important` here to be able to override the default hidden behavior on the sphinx rendered scikit-learn.org. See: https://github.com/scikit-learn/scikit-learn/issues/21755 */display: inline-block !important;position: relative;}#sk-container-id-1 div.sk-text-repr-fallback {display: none;}</style><div id=\"sk-container-id-1\" class=\"sk-top-container\"><div class=\"sk-text-repr-fallback\"><pre>GridSearchCV(cv=5, estimator=RandomForestClassifier(random_state=42), n_jobs=1,\n",
       "             param_grid={&#x27;max_depth&#x27;: [None, 3, 10, 20],\n",
       "                         &#x27;max_features&#x27;: [&#x27;sqrt&#x27;],\n",
       "                         &#x27;n_estimators&#x27;: [30, 50, 70, 90]},\n",
       "             return_train_score=True, scoring=&#x27;accuracy&#x27;, verbose=2)</pre><b>In a Jupyter environment, please rerun this cell to show the HTML representation or trust the notebook. <br />On GitHub, the HTML representation is unable to render, please try loading this page with nbviewer.org.</b></div><div class=\"sk-container\" hidden><div class=\"sk-item sk-dashed-wrapped\"><div class=\"sk-label-container\"><div class=\"sk-label sk-toggleable\"><input class=\"sk-toggleable__control sk-hidden--visually\" id=\"sk-estimator-id-1\" type=\"checkbox\" ><label for=\"sk-estimator-id-1\" class=\"sk-toggleable__label sk-toggleable__label-arrow\">GridSearchCV</label><div class=\"sk-toggleable__content\"><pre>GridSearchCV(cv=5, estimator=RandomForestClassifier(random_state=42), n_jobs=1,\n",
       "             param_grid={&#x27;max_depth&#x27;: [None, 3, 10, 20],\n",
       "                         &#x27;max_features&#x27;: [&#x27;sqrt&#x27;],\n",
       "                         &#x27;n_estimators&#x27;: [30, 50, 70, 90]},\n",
       "             return_train_score=True, scoring=&#x27;accuracy&#x27;, verbose=2)</pre></div></div></div><div class=\"sk-parallel\"><div class=\"sk-parallel-item\"><div class=\"sk-item\"><div class=\"sk-label-container\"><div class=\"sk-label sk-toggleable\"><input class=\"sk-toggleable__control sk-hidden--visually\" id=\"sk-estimator-id-2\" type=\"checkbox\" ><label for=\"sk-estimator-id-2\" class=\"sk-toggleable__label sk-toggleable__label-arrow\">estimator: RandomForestClassifier</label><div class=\"sk-toggleable__content\"><pre>RandomForestClassifier(random_state=42)</pre></div></div></div><div class=\"sk-serial\"><div class=\"sk-item\"><div class=\"sk-estimator sk-toggleable\"><input class=\"sk-toggleable__control sk-hidden--visually\" id=\"sk-estimator-id-3\" type=\"checkbox\" ><label for=\"sk-estimator-id-3\" class=\"sk-toggleable__label sk-toggleable__label-arrow\">RandomForestClassifier</label><div class=\"sk-toggleable__content\"><pre>RandomForestClassifier(random_state=42)</pre></div></div></div></div></div></div></div></div></div></div>"
      ],
      "text/plain": [
       "GridSearchCV(cv=5, estimator=RandomForestClassifier(random_state=42), n_jobs=1,\n",
       "             param_grid={'max_depth': [None, 3, 10, 20],\n",
       "                         'max_features': ['sqrt'],\n",
       "                         'n_estimators': [30, 50, 70, 90]},\n",
       "             return_train_score=True, scoring='accuracy', verbose=2)"
      ]
     },
     "execution_count": 24,
     "metadata": {},
     "output_type": "execute_result"
    }
   ],
   "source": [
    "param_grid = {\n",
    "    'n_estimators': [30, 50, 70, 90],\n",
    "    'max_features': ['sqrt'],\n",
    "    'max_depth'   : [None, 3, 10, 20],\n",
    "    #'criterion'   : ['gini', 'entropy']\n",
    "}\n",
    "\n",
    "grid = GridSearchCV(\n",
    "        estimator  = rfcls,\n",
    "        param_grid = param_grid,\n",
    "        scoring    = 'accuracy',\n",
    "        n_jobs     = 1,\n",
    "        cv         = 5,\n",
    "        verbose    = 2,\n",
    "        return_train_score = True\n",
    "       )\n",
    "\n",
    "grid.fit(X=X_train, y=y_train)"
   ]
  },
  {
   "cell_type": "code",
   "execution_count": 25,
   "id": "d0c6a9f5",
   "metadata": {
    "execution": {
     "iopub.execute_input": "2024-09-24T11:39:24.038262Z",
     "iopub.status.busy": "2024-09-24T11:39:24.037807Z",
     "iopub.status.idle": "2024-09-24T11:39:24.058714Z",
     "shell.execute_reply": "2024-09-24T11:39:24.057492Z"
    },
    "papermill": {
     "duration": 0.055162,
     "end_time": "2024-09-24T11:39:24.061426",
     "exception": false,
     "start_time": "2024-09-24T11:39:24.006264",
     "status": "completed"
    },
    "tags": []
   },
   "outputs": [
    {
     "data": {
      "text/html": [
       "<div>\n",
       "<style scoped>\n",
       "    .dataframe tbody tr th:only-of-type {\n",
       "        vertical-align: middle;\n",
       "    }\n",
       "\n",
       "    .dataframe tbody tr th {\n",
       "        vertical-align: top;\n",
       "    }\n",
       "\n",
       "    .dataframe thead th {\n",
       "        text-align: right;\n",
       "    }\n",
       "</style>\n",
       "<table border=\"1\" class=\"dataframe\">\n",
       "  <thead>\n",
       "    <tr style=\"text-align: right;\">\n",
       "      <th></th>\n",
       "      <th>param_max_depth</th>\n",
       "      <th>param_max_features</th>\n",
       "      <th>param_n_estimators</th>\n",
       "      <th>mean_test_score</th>\n",
       "      <th>std_test_score</th>\n",
       "      <th>mean_train_score</th>\n",
       "      <th>std_train_score</th>\n",
       "    </tr>\n",
       "  </thead>\n",
       "  <tbody>\n",
       "    <tr>\n",
       "      <th>11</th>\n",
       "      <td>10</td>\n",
       "      <td>sqrt</td>\n",
       "      <td>90</td>\n",
       "      <td>0.804430</td>\n",
       "      <td>0.001687</td>\n",
       "      <td>0.891183</td>\n",
       "      <td>0.002870</td>\n",
       "    </tr>\n",
       "    <tr>\n",
       "      <th>9</th>\n",
       "      <td>10</td>\n",
       "      <td>sqrt</td>\n",
       "      <td>50</td>\n",
       "      <td>0.803572</td>\n",
       "      <td>0.002697</td>\n",
       "      <td>0.890711</td>\n",
       "      <td>0.001186</td>\n",
       "    </tr>\n",
       "    <tr>\n",
       "      <th>15</th>\n",
       "      <td>20</td>\n",
       "      <td>sqrt</td>\n",
       "      <td>90</td>\n",
       "      <td>0.803400</td>\n",
       "      <td>0.008666</td>\n",
       "      <td>0.999399</td>\n",
       "      <td>0.000210</td>\n",
       "    </tr>\n",
       "    <tr>\n",
       "      <th>8</th>\n",
       "      <td>10</td>\n",
       "      <td>sqrt</td>\n",
       "      <td>30</td>\n",
       "      <td>0.803057</td>\n",
       "      <td>0.004219</td>\n",
       "      <td>0.889552</td>\n",
       "      <td>0.001713</td>\n",
       "    </tr>\n",
       "    <tr>\n",
       "      <th>10</th>\n",
       "      <td>10</td>\n",
       "      <td>sqrt</td>\n",
       "      <td>70</td>\n",
       "      <td>0.802885</td>\n",
       "      <td>0.003262</td>\n",
       "      <td>0.890582</td>\n",
       "      <td>0.001523</td>\n",
       "    </tr>\n",
       "  </tbody>\n",
       "</table>\n",
       "</div>"
      ],
      "text/plain": [
       "   param_max_depth param_max_features param_n_estimators  mean_test_score  \\\n",
       "11              10               sqrt                 90         0.804430   \n",
       "9               10               sqrt                 50         0.803572   \n",
       "15              20               sqrt                 90         0.803400   \n",
       "8               10               sqrt                 30         0.803057   \n",
       "10              10               sqrt                 70         0.802885   \n",
       "\n",
       "    std_test_score  mean_train_score  std_train_score  \n",
       "11        0.001687          0.891183         0.002870  \n",
       "9         0.002697          0.890711         0.001186  \n",
       "15        0.008666          0.999399         0.000210  \n",
       "8         0.004219          0.889552         0.001713  \n",
       "10        0.003262          0.890582         0.001523  "
      ]
     },
     "execution_count": 25,
     "metadata": {},
     "output_type": "execute_result"
    }
   ],
   "source": [
    "# Top 5 de le media del puntaje de test.\n",
    "results = pd.DataFrame(grid.cv_results_)\n",
    "results.filter(regex='(param*|mean_t|std_t)') \\\n",
    "        .drop(columns='params') \\\n",
    "        .sort_values('mean_test_score', ascending=False) \\\n",
    "        .head()"
   ]
  },
  {
   "cell_type": "code",
   "execution_count": 26,
   "id": "f0485c66",
   "metadata": {
    "execution": {
     "iopub.execute_input": "2024-09-24T11:39:24.126052Z",
     "iopub.status.busy": "2024-09-24T11:39:24.125571Z",
     "iopub.status.idle": "2024-09-24T11:39:24.133890Z",
     "shell.execute_reply": "2024-09-24T11:39:24.132555Z"
    },
    "papermill": {
     "duration": 0.044186,
     "end_time": "2024-09-24T11:39:24.136708",
     "exception": false,
     "start_time": "2024-09-24T11:39:24.092522",
     "status": "completed"
    },
    "tags": []
   },
   "outputs": [
    {
     "data": {
      "text/plain": [
       "{'max_depth': 10, 'max_features': 'sqrt', 'n_estimators': 90}"
      ]
     },
     "execution_count": 26,
     "metadata": {},
     "output_type": "execute_result"
    }
   ],
   "source": [
    "best_params = grid.best_params_\n",
    "best_params"
   ]
  },
  {
   "cell_type": "code",
   "execution_count": 27,
   "id": "fe63ea8a",
   "metadata": {
    "execution": {
     "iopub.execute_input": "2024-09-24T11:39:24.202776Z",
     "iopub.status.busy": "2024-09-24T11:39:24.201560Z",
     "iopub.status.idle": "2024-09-24T11:39:24.257123Z",
     "shell.execute_reply": "2024-09-24T11:39:24.255948Z"
    },
    "papermill": {
     "duration": 0.09196,
     "end_time": "2024-09-24T11:39:24.259914",
     "exception": false,
     "start_time": "2024-09-24T11:39:24.167954",
     "status": "completed"
    },
    "tags": []
   },
   "outputs": [
    {
     "data": {
      "text/plain": [
       "0.7950505402579295"
      ]
     },
     "execution_count": 27,
     "metadata": {},
     "output_type": "execute_result"
    }
   ],
   "source": [
    "best_model = grid.best_estimator_\n",
    "accuracy = best_model.score(X_test, y_test)\n",
    "accuracy"
   ]
  },
  {
   "cell_type": "markdown",
   "id": "3854ee04",
   "metadata": {
    "papermill": {
     "duration": 0.030462,
     "end_time": "2024-09-24T11:39:24.320997",
     "exception": false,
     "start_time": "2024-09-24T11:39:24.290535",
     "status": "completed"
    },
    "tags": []
   },
   "source": [
    "## Predecir datos de test.csv"
   ]
  },
  {
   "cell_type": "code",
   "execution_count": 28,
   "id": "3e27dc59",
   "metadata": {
    "execution": {
     "iopub.execute_input": "2024-09-24T11:39:24.385867Z",
     "iopub.status.busy": "2024-09-24T11:39:24.385360Z",
     "iopub.status.idle": "2024-09-24T11:39:24.423036Z",
     "shell.execute_reply": "2024-09-24T11:39:24.421703Z"
    },
    "papermill": {
     "duration": 0.072996,
     "end_time": "2024-09-24T11:39:24.425666",
     "exception": false,
     "start_time": "2024-09-24T11:39:24.352670",
     "status": "completed"
    },
    "tags": []
   },
   "outputs": [
    {
     "data": {
      "text/plain": [
       "(4277, 13)"
      ]
     },
     "execution_count": 28,
     "metadata": {},
     "output_type": "execute_result"
    }
   ],
   "source": [
    "test = pd.read_csv(\"/kaggle/input/spaceship-titanic/test.csv\")\n",
    "test.shape"
   ]
  },
  {
   "cell_type": "markdown",
   "id": "ec91957a",
   "metadata": {
    "papermill": {
     "duration": 0.031311,
     "end_time": "2024-09-24T11:39:24.489852",
     "exception": false,
     "start_time": "2024-09-24T11:39:24.458541",
     "status": "completed"
    },
    "tags": []
   },
   "source": [
    "Se guarda la columna PassengerId, ya que la función clean_data() la elimina."
   ]
  },
  {
   "cell_type": "code",
   "execution_count": 29,
   "id": "e819c066",
   "metadata": {
    "execution": {
     "iopub.execute_input": "2024-09-24T11:39:24.558864Z",
     "iopub.status.busy": "2024-09-24T11:39:24.558404Z",
     "iopub.status.idle": "2024-09-24T11:39:24.564317Z",
     "shell.execute_reply": "2024-09-24T11:39:24.563030Z"
    },
    "papermill": {
     "duration": 0.046001,
     "end_time": "2024-09-24T11:39:24.567069",
     "exception": false,
     "start_time": "2024-09-24T11:39:24.521068",
     "status": "completed"
    },
    "tags": []
   },
   "outputs": [],
   "source": [
    "pass_id = test['PassengerId']"
   ]
  },
  {
   "cell_type": "markdown",
   "id": "4f9e4b85",
   "metadata": {},
   "source": [
    "Limpiar los datos del dataframe test."
   ]
  },
  {
   "cell_type": "code",
   "execution_count": 30,
   "id": "5bea5d72",
   "metadata": {
    "execution": {
     "iopub.execute_input": "2024-09-24T11:39:24.632711Z",
     "iopub.status.busy": "2024-09-24T11:39:24.632226Z",
     "iopub.status.idle": "2024-09-24T11:39:24.773710Z",
     "shell.execute_reply": "2024-09-24T11:39:24.772065Z"
    },
    "papermill": {
     "duration": 0.177659,
     "end_time": "2024-09-24T11:39:24.777029",
     "exception": false,
     "start_time": "2024-09-24T11:39:24.599370",
     "status": "completed"
    },
    "tags": []
   },
   "outputs": [
    {
     "name": "stdout",
     "output_type": "stream",
     "text": [
      "['HomePlanet', 'CryoSleep', 'Cabin', 'Destination', 'Age', 'VIP', 'RoomService', 'FoodCourt', 'ShoppingMall', 'Spa', 'VRDeck']\n",
      "Age, imputado por la mediana\n",
      "RoomService, imputado por la mediana\n",
      "FoodCourt, imputado por la mediana\n",
      "ShoppingMall, imputado por la mediana\n",
      "Spa, imputado por la mediana\n",
      "VRDeck, imputado por la mediana\n",
      "\n",
      "Comprobando la imputación:\n",
      "Age             0\n",
      "RoomService     0\n",
      "FoodCourt       0\n",
      "ShoppingMall    0\n",
      "Spa             0\n",
      "VRDeck          0\n",
      "dtype: int64\n",
      "\n",
      "Dividir Cabin.\n",
      "Columnas actuales: ['HomePlanet', 'CryoSleep', 'Destination', 'Age', 'VIP', 'RoomService', 'FoodCourt', 'ShoppingMall', 'Spa', 'VRDeck', 'Deck', 'Cab_num', 'Side']\n",
      "HomePlanet      0\n",
      "CryoSleep       0\n",
      "Destination     0\n",
      "Age             0\n",
      "VIP             0\n",
      "RoomService     0\n",
      "FoodCourt       0\n",
      "ShoppingMall    0\n",
      "Spa             0\n",
      "VRDeck          0\n",
      "Deck            0\n",
      "Cab_num         0\n",
      "Side            0\n",
      "dtype: int64\n",
      "HomePlanet      category\n",
      "CryoSleep          int64\n",
      "Destination     category\n",
      "Age                int64\n",
      "VIP                int64\n",
      "RoomService        int64\n",
      "FoodCourt          int64\n",
      "ShoppingMall       int64\n",
      "Spa                int64\n",
      "VRDeck             int64\n",
      "Deck            category\n",
      "Cab_num            int64\n",
      "Side            category\n",
      "dtype: object\n"
     ]
    },
    {
     "name": "stderr",
     "output_type": "stream",
     "text": [
      "/tmp/ipykernel_17/668325609.py:6: FutureWarning: Downcasting object dtype arrays on .fillna, .ffill, .bfill is deprecated and will change in a future version. Call result.infer_objects(copy=False) instead. To opt-in to the future behavior, set `pd.set_option('future.no_silent_downcasting', True)`\n",
      "  df[c] = df[c].fillna(df[c].mode()[0])\n"
     ]
    }
   ],
   "source": [
    "test_clean = clean_data(test)\n",
    "fix_types(test_clean)\n",
    "X_predict = code_data(test_clean)\n",
    "y_predict = grid.predict(X_predict)"
   ]
  },
  {
   "cell_type": "code",
   "execution_count": 32,
   "id": "ca8b5747",
   "metadata": {
    "execution": {
     "iopub.execute_input": "2024-09-24T11:39:24.920462Z",
     "iopub.status.busy": "2024-09-24T11:39:24.919922Z",
     "iopub.status.idle": "2024-09-24T11:39:24.938553Z",
     "shell.execute_reply": "2024-09-24T11:39:24.937085Z"
    },
    "papermill": {
     "duration": 0.05576,
     "end_time": "2024-09-24T11:39:24.941385",
     "exception": false,
     "start_time": "2024-09-24T11:39:24.885625",
     "status": "completed"
    },
    "tags": []
   },
   "outputs": [
    {
     "data": {
      "text/plain": [
       "(4277, 2)"
      ]
     },
     "execution_count": 32,
     "metadata": {},
     "output_type": "execute_result"
    }
   ],
   "source": [
    "sample_sub = pd.read_csv('/kaggle/input/spaceship-titanic/sample_submission.csv')\n",
    "sample_sub.head()\n",
    "sample_sub.shape"
   ]
  },
  {
   "cell_type": "markdown",
   "id": "4f52984b",
   "metadata": {},
   "source": [
    "Sustituir columna *Transported* del dataframe de sample_sub por las prediccíones que se realizó."
   ]
  },
  {
   "cell_type": "code",
   "execution_count": 33,
   "id": "40271905",
   "metadata": {
    "execution": {
     "iopub.execute_input": "2024-09-24T11:39:25.007487Z",
     "iopub.status.busy": "2024-09-24T11:39:25.007027Z",
     "iopub.status.idle": "2024-09-24T11:39:25.019765Z",
     "shell.execute_reply": "2024-09-24T11:39:25.018446Z"
    },
    "papermill": {
     "duration": 0.04878,
     "end_time": "2024-09-24T11:39:25.022508",
     "exception": false,
     "start_time": "2024-09-24T11:39:24.973728",
     "status": "completed"
    },
    "tags": []
   },
   "outputs": [
    {
     "data": {
      "text/html": [
       "<div>\n",
       "<style scoped>\n",
       "    .dataframe tbody tr th:only-of-type {\n",
       "        vertical-align: middle;\n",
       "    }\n",
       "\n",
       "    .dataframe tbody tr th {\n",
       "        vertical-align: top;\n",
       "    }\n",
       "\n",
       "    .dataframe thead th {\n",
       "        text-align: right;\n",
       "    }\n",
       "</style>\n",
       "<table border=\"1\" class=\"dataframe\">\n",
       "  <thead>\n",
       "    <tr style=\"text-align: right;\">\n",
       "      <th></th>\n",
       "      <th>PassengerId</th>\n",
       "      <th>Transported</th>\n",
       "    </tr>\n",
       "  </thead>\n",
       "  <tbody>\n",
       "    <tr>\n",
       "      <th>0</th>\n",
       "      <td>0013_01</td>\n",
       "      <td>True</td>\n",
       "    </tr>\n",
       "    <tr>\n",
       "      <th>1</th>\n",
       "      <td>0018_01</td>\n",
       "      <td>False</td>\n",
       "    </tr>\n",
       "    <tr>\n",
       "      <th>2</th>\n",
       "      <td>0019_01</td>\n",
       "      <td>True</td>\n",
       "    </tr>\n",
       "    <tr>\n",
       "      <th>3</th>\n",
       "      <td>0021_01</td>\n",
       "      <td>True</td>\n",
       "    </tr>\n",
       "    <tr>\n",
       "      <th>4</th>\n",
       "      <td>0023_01</td>\n",
       "      <td>True</td>\n",
       "    </tr>\n",
       "  </tbody>\n",
       "</table>\n",
       "</div>"
      ],
      "text/plain": [
       "  PassengerId  Transported\n",
       "0     0013_01         True\n",
       "1     0018_01        False\n",
       "2     0019_01         True\n",
       "3     0021_01         True\n",
       "4     0023_01         True"
      ]
     },
     "execution_count": 33,
     "metadata": {},
     "output_type": "execute_result"
    }
   ],
   "source": [
    "sample_sub['Transported'] = y_predict.astype(bool)\n",
    "sample_sub.head()"
   ]
  },
  {
   "cell_type": "code",
   "execution_count": 34,
   "id": "1bcd5050",
   "metadata": {
    "execution": {
     "iopub.execute_input": "2024-09-24T11:39:25.091808Z",
     "iopub.status.busy": "2024-09-24T11:39:25.091303Z",
     "iopub.status.idle": "2024-09-24T11:39:25.106413Z",
     "shell.execute_reply": "2024-09-24T11:39:25.104928Z"
    },
    "papermill": {
     "duration": 0.053342,
     "end_time": "2024-09-24T11:39:25.109760",
     "exception": false,
     "start_time": "2024-09-24T11:39:25.056418",
     "status": "completed"
    },
    "tags": []
   },
   "outputs": [],
   "source": [
    "sample_sub.to_csv('/kaggle/working/submission.csv', index=False)"
   ]
  }
 ],
 "metadata": {
  "kaggle": {
   "accelerator": "none",
   "dataSources": [
    {
     "databundleVersionId": 3220602,
     "sourceId": 34377,
     "sourceType": "competition"
    }
   ],
   "dockerImageVersionId": 30761,
   "isGpuEnabled": false,
   "isInternetEnabled": false,
   "language": "python",
   "sourceType": "notebook"
  },
  "kernelspec": {
   "display_name": "Python 3",
   "language": "python",
   "name": "python3"
  },
  "language_info": {
   "codemirror_mode": {
    "name": "ipython",
    "version": 3
   },
   "file_extension": ".py",
   "mimetype": "text/x-python",
   "name": "python",
   "nbconvert_exporter": "python",
   "pygments_lexer": "ipython3",
   "version": "3.10.14"
  },
  "papermill": {
   "default_parameters": {},
   "duration": 54.314531,
   "end_time": "2024-09-24T11:39:25.866724",
   "environment_variables": {},
   "exception": null,
   "input_path": "__notebook__.ipynb",
   "output_path": "__notebook__.ipynb",
   "parameters": {},
   "start_time": "2024-09-24T11:38:31.552193",
   "version": "2.6.0"
  }
 },
 "nbformat": 4,
 "nbformat_minor": 5
}
